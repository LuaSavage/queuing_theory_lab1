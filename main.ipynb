{
 "cells": [
  {
   "cell_type": "markdown",
   "metadata": {},
   "source": [
    "### Выполнил: - -\n",
    "Для ввода данных выполните код в нижней ячейке"
   ]
  },
  {
   "cell_type": "code",
   "execution_count": 93,
   "metadata": {},
   "outputs": [
    {
     "name": "stdout",
     "output_type": "stream",
     "text": [
      "Введите номер операции: \n",
      "1. Ввести самостоятельно x0, n, lambda. \n",
      "2. Загрузить из файла.\n",
      "1\n",
      "Введите n: 500\n",
      "Введите lmbd: 0.1\n",
      "Введите x0: 1\n",
      "Сохранить введенные данные?: \n",
      "1. Да \n",
      "2. Нет\n",
      "2\n",
      "Можно переходить к запуску кода из нижней ячейки\n"
     ]
    }
   ],
   "source": [
    "import math\n",
    "import random\n",
    "import scipy.stats as sp\n",
    "import pandas as pd\n",
    "from pathlib import Path\n",
    "import os\n",
    "\n",
    "x0, n, lmbd = None, None, None\n",
    "\n",
    "def load_from_csv():\n",
    "    file_path = Path(os.path.abspath(os.getcwd())+\"/data.csv\")\n",
    "    if file_path.is_file():\n",
    "        return pd.read_csv('data.csv')\n",
    "    return pd.DataFrame(data= {'x0': [], 'n': [], 'lambda': []})\n",
    "\n",
    "def save_data(df):\n",
    "    df.to_csv('data.csv', index=False)\n",
    "    return df\n",
    "\n",
    "def load_data():    \n",
    "    return load_from_csv()\n",
    "\n",
    "def add_data (df):\n",
    "    return df.append({'x0': x0, 'n': n, 'lambda': lmbd}, ignore_index=True)\n",
    "   \n",
    "input_data_frame = load_data()\n",
    "\n",
    "while True:\n",
    "    operation_num = int(input(\"Введите номер операции: \\n1. Ввести самостоятельно x0, n, lambda. \\n2. Загрузить из файла.\\n\"))\n",
    "\n",
    "    if operation_num == 1:\n",
    "        n = int(input(\"Введите n: \" ))\n",
    "        lmbd = float(input(\"Введите lmbd: \"))\n",
    "        x0 = float(input(\"Введите x0: \"))\n",
    "\n",
    "        if int(input(\"Сохранить введенные данные?: \\n1. Да \\n2. Нет\\n\")) == 1:\n",
    "            print(\"Новое состояние хранилища:\\n\")\n",
    "            input_data_frame = save_data(add_data(input_data_frame))\n",
    "            display(input_data_frame)\n",
    "        break\n",
    "\n",
    "    if operation_num == 2:\n",
    "        display(input_data_frame)\n",
    "        row_number = int(input(\"Выберите номер записи или введите -1 для возврата:\\n\"))\n",
    "        if row_number >= 0:\n",
    "            row = input_data_frame.iloc[int(row_number)]\n",
    "            x0, n, lmbd = float(row[\"x0\"]),int(row[\"n\"]),float(row[\"lambda\"])\n",
    "            print(\"Загружено из записи \" +str(row_number)+ \":\\n\")\n",
    "            break\n",
    "\n",
    "print(\"Можно переходить к запуску кода из нижней ячейки\")"
   ]
  },
  {
   "cell_type": "code",
   "execution_count": 94,
   "metadata": {},
   "outputs": [
    {
     "name": "stdout",
     "output_type": "stream",
     "text": [
      "Мат ожидание \n",
      " Теория: 10.0 ; практика: 10.097896404332296 ; отклонение: 0.9789640433229607 %\n",
      "Дисперсия \n",
      " Теория: 99.99999999999999 ; практика: 92.81695797040793 ; отклонение: 7.18304202959206 %\n",
      "Функция распределения \n",
      " Теория: 0.09516258196404048 ; практика: 0.118 ; отклонение: 0.02283741803595951\n"
     ]
    }
   ],
   "source": [
    "x, y = [], []\n",
    "\n",
    "def get_expected_value_theory():\n",
    "    return 1/lmbd\n",
    "\n",
    "def get_expected_value_practice():\n",
    "    #return (1/n)*sum(y)\n",
    "    return sp.describe(y).mean\n",
    "\n",
    "def get_err (theory, practice):\n",
    "    return (abs(theory-practice)/theory)*100\n",
    "\n",
    "def get_expected_value_err():\n",
    "    return get_err(get_expected_value_theory(), get_expected_value_practice())\n",
    "\n",
    "def get_dispersion_theory():\n",
    "    return 1/(lmbd**2) \n",
    "\n",
    "def get_dispersion_practice():\n",
    "    squared_deviation = []\n",
    "    for yi in y:\n",
    "        #squared_deviation.append( abs(yi-get_expected_value_practice()) )\n",
    "        squared_deviation.append( (yi-get_expected_value_practice())**2 )    \n",
    "    return sum(squared_deviation)*(1/n)\n",
    "\n",
    "def get_dispersion_err():\n",
    "    return get_err(get_dispersion_theory(), get_dispersion_practice())\n",
    "\n",
    "def get_distribution_theory(x):\n",
    "    return 1-math.exp((-1)*lmbd*x) if x>0 else 0\n",
    "\n",
    "def get_interval_count_less_x(x):\n",
    "    count = 0\n",
    "    for yi in y:\n",
    "        if (yi < x):\n",
    "            count += 1\n",
    "    return count\n",
    "\n",
    "def get_distribution_practice(x):\n",
    "    return get_interval_count_less_x(x)/n\n",
    "\n",
    "def get_distribution_err(x):\n",
    "    return abs(get_distribution_theory(x)-get_distribution_practice(x))\n",
    "\n",
    "\n",
    "def get_y (x):\n",
    "    return (-1)*(math.log(1-x)/lmbd)\n",
    "\n",
    "\n",
    "for i in range(0,n):\n",
    "    x.append(random.randrange(0, 100, 1)/100)\n",
    "    y.append( get_y(x[-1]) )\n",
    "    \n",
    "print(\"Мат ожидание \\n Теория:\",get_expected_value_theory(),\"; практика:\",get_expected_value_practice(),\"; отклонение:\",get_expected_value_err(),\"%\")\n",
    "print(\"Дисперсия \\n Теория:\",get_dispersion_theory(),\"; практика:\",get_dispersion_practice(),\"; отклонение:\",get_dispersion_err(),\"%\")\n",
    "print(\"Функция распределения \\n Теория:\",get_distribution_theory(x0),\"; практика:\",get_distribution_practice(x0),\"; отклонение:\",get_distribution_err(x0))\n"
   ]
  },
  {
   "cell_type": "markdown",
   "metadata": {},
   "source": [
    "### Гистограмма\n"
   ]
  },
  {
   "cell_type": "code",
   "execution_count": 95,
   "metadata": {},
   "outputs": [],
   "source": [
    "#распр плотности\n",
    "def get_density_distribution(x):\n",
    "    return lmbd*math.exp((-1)*lmbd*x)"
   ]
  },
  {
   "cell_type": "code",
   "execution_count": 96,
   "metadata": {
    "scrolled": false
   },
   "outputs": [
    {
     "data": {
      "image/png": "[encoded data removed]",
      "text/plain": [
       "<Figure size 432x288 with 1 Axes>"
      ]
     },
     "metadata": {
      "needs_background": "light"
     },
     "output_type": "display_data"
    },
    {
     "name": "stdout",
     "output_type": "stream",
     "text": [
      "Мера похожести:  3.069421230240663e-05\n"
     ]
    }
   ],
   "source": [
    "import numpy as np\n",
    "import matplotlib.pyplot as plt\n",
    "import seaborn as sns\n",
    "\n",
    "z = []\n",
    "frequency_density = []\n",
    "\n",
    "def get_sturges_digit_count ():\n",
    "    m = 1.44*math.log(n) + 1\n",
    "    m = int(m)\n",
    "    return m\n",
    "\n",
    "def get_sturges_digit_length():\n",
    "    m = get_sturges_digit_count ()\n",
    "    mean_length = max(y)/m\n",
    "    return mean_length\n",
    "\n",
    "def get_digits_with_equal_length (y, z, length):    \n",
    "    mean_length = length\n",
    "    z.insert(1,0)\n",
    "    m = max(y)/mean_length\n",
    "    for i in range(1,int(m)):\n",
    "        z.insert(i, z[i-1]+mean_length)           \n",
    "\n",
    "    return z\n",
    "\n",
    "def get_digit_length (y,z,i):\n",
    "\n",
    "    if (i < 0) or (i + 1  >= len(z)):\n",
    "        return False\n",
    "    \n",
    "    y_sorted = y[:]\n",
    "    y_sorted.sort()\n",
    "\n",
    "    interval = pd.Interval(left=z[i], right=z[i+1], closed = \"left\")\n",
    "        \n",
    "    digit_len = 0\n",
    "    \n",
    "    for y_i in (y_sorted):\n",
    "        if y_i in interval:\n",
    "            digit_len = digit_len + 1\n",
    "            \n",
    "    return digit_len\n",
    "\n",
    "def get_frequency_density ():\n",
    "    for i in range(len(z)-1):\n",
    "        delta_i = z[i+1]-z[i]\n",
    "        density = get_digit_length(y,z,i)/(n*delta_i)\n",
    "        frequency_density.insert(i,float(density))\n",
    "\n",
    "            \n",
    "get_digits_with_equal_length (y, z, get_sturges_digit_length())\n",
    "get_frequency_density ()\n",
    "\n",
    "y_sorted= y[:]\n",
    "y_sorted.sort()\n",
    "\n",
    "#new_z = z[1:]\n",
    "#sns.barplot(x = new_z, y = frequency_density)\n",
    "\n",
    "plt.figure()\n",
    "plt.hist(y_sorted,  density = \"true\", bins = z, )\n",
    "\n",
    "plot_range = np.arange(z[0],z[-1], 0.01)\n",
    "plot_y = [get_density_distribution(x) for x in plot_range]\n",
    "plt.plot(plot_range, plot_y, color='purple', linewidth=2)\n",
    "\n",
    "fz = [(z[i+1]+z[i])/2 for i in range(len(z)-1)]\n",
    "plt.plot(fz, frequency_density, color=\"red\",marker = \"o\",linewidth=0, markersize=3)\n",
    "\n",
    "plt.show()\n",
    "\n",
    "#похожесть\n",
    "def get_measure_of_similarity(): \n",
    "    deviations = []\n",
    "    \n",
    "    for i in range(len(z)-1):\n",
    "        average_z = (z[i] + z[i+1])/2\n",
    "        deviation = (get_density_distribution(average_z) - frequency_density[i])**2\n",
    "        deviations.append(deviation)\n",
    "    return sum(deviations)\n",
    "\n",
    "print(\"Мера похожести: \", get_measure_of_similarity())\n"
   ]
  },
  {
   "cell_type": "markdown",
   "metadata": {},
   "source": [
    "### Часть 3"
   ]
  },
  {
   "cell_type": "code",
   "execution_count": 97,
   "metadata": {},
   "outputs": [],
   "source": [
    "from scipy.stats import chi2\n",
    "\n",
    "#degr of freedom\n",
    "r = len(z) - 1\n",
    "alpha = 0.05\n",
    "\n",
    "# R0\n",
    "def get_measure_of_discrepancy(degry_of_freedom,observed,expected):\n",
    "    elements = [] \n",
    "    for i in range(degry_of_freedom):\n",
    "        #p_i = get_distribution_theory(z[i+1])-get_distribution_theory(z[i])\n",
    "        #l_i = get_digit_length(y,z,i)\n",
    "        #print(\"i\",i,\"lambda \",lmbd,\"n\",n,\"x0\",x0,\"Zi+1\",z[i+1],\"Z\",z[i],\"F(Zi+1)\",get_distribution_theory(z[i+1]),\"F(Z)\",get_distribution_theory(z[i]))\n",
    "        r_0_i = ((observed[i] - expected[i])**2)/expected[i]\n",
    "        #print(r_0_i)\n",
    "        elements.append(r_0_i)\n",
    "        \n",
    "    return sum(elements)\n",
    "\n",
    "def test_hypothesis (description, observed,expected):\n",
    "    print(\"Проверим гипотезу: \\n \",description)\n",
    "    \n",
    "    p = 1-alpha \n",
    "    quantil_chi2 = chi2.ppf(p, r)\n",
    "    \n",
    "    R0 = get_measure_of_discrepancy(r, observed,expected)\n",
    "    \n",
    "    print(\"r степеней свободы: \",r)    \n",
    "    print(\"R0, alpha, r = \",R0,\",\",alpha,\",\",r)\n",
    "    \n",
    "    if R0>=quantil_chi2:\n",
    "        print(\"Гипотеза H0 отклоняется \\n\",R0,\">=\",quantil_chi2)\n",
    "    else:\n",
    "        print(\"Гипотеза H0 не овтергается \\n\",R0,\"<\",quantil_chi2)"
   ]
  },
  {
   "cell_type": "code",
   "execution_count": 98,
   "metadata": {},
   "outputs": [
    {
     "name": "stdout",
     "output_type": "stream",
     "text": [
      "Проверим гипотезу: \n",
      "  H0 – с.в. распределена показательно с параметром lambda = 0.1\n",
      "r степеней свободы:  8\n",
      "R0, alpha, r =  3.136089277678563 , 0.05 , 8\n",
      "Гипотеза H0 не овтергается \n",
      " 3.136089277678563 < 15.50731305586545\n"
     ]
    }
   ],
   "source": [
    "hypothesis_description = \"H0 – с.в. распределена показательно с параметром lambda = \"+str(lmbd)\n",
    "observed = [get_digit_length(y,z,i) for i in range(r)]\n",
    "expected = [n*(get_distribution_theory(z[i+1])-get_distribution_theory(z[i])) for i in range(r)]\n",
    "\n",
    "test_hypothesis (hypothesis_description, observed,expected)"
   ]
  },
  {
   "cell_type": "markdown",
   "metadata": {},
   "source": [
    "### Часть 4"
   ]
  },
  {
   "cell_type": "code",
   "execution_count": 99,
   "metadata": {
    "scrolled": false
   },
   "outputs": [
    {
     "data": {
      "text/html": [
       "<div>\n",
       "<style scoped>\n",
       "    .dataframe tbody tr th:only-of-type {\n",
       "        vertical-align: middle;\n",
       "    }\n",
       "\n",
       "    .dataframe tbody tr th {\n",
       "        vertical-align: top;\n",
       "    }\n",
       "\n",
       "    .dataframe thead th {\n",
       "        text-align: right;\n",
       "    }\n",
       "</style>\n",
       "<table border=\"1\" class=\"dataframe\">\n",
       "  <thead>\n",
       "    <tr style=\"text-align: right;\">\n",
       "      <th></th>\n",
       "      <th>0</th>\n",
       "      <th>1</th>\n",
       "      <th>2</th>\n",
       "      <th>3</th>\n",
       "      <th>4</th>\n",
       "      <th>5</th>\n",
       "    </tr>\n",
       "  </thead>\n",
       "  <tbody>\n",
       "    <tr>\n",
       "      <th>Количество заявок</th>\n",
       "      <td>0</td>\n",
       "      <td>1</td>\n",
       "      <td>2</td>\n",
       "      <td>3</td>\n",
       "      <td>4</td>\n",
       "      <td>5</td>\n",
       "    </tr>\n",
       "    <tr>\n",
       "      <th>Число интервалов, на которых наблюдалось это число заявок</th>\n",
       "      <td>188</td>\n",
       "      <td>180</td>\n",
       "      <td>84</td>\n",
       "      <td>34</td>\n",
       "      <td>10</td>\n",
       "      <td>1</td>\n",
       "    </tr>\n",
       "  </tbody>\n",
       "</table>\n",
       "</div>"
      ],
      "text/plain": [
       "                                                      0    1   2   3   4  5\n",
       "Количество заявок                                     0    1   2   3   4  5\n",
       "Число интервалов, на которых наблюдалось это чи...  188  180  84  34  10  1"
      ]
     },
     "metadata": {},
     "output_type": "display_data"
    }
   ],
   "source": [
    "import collections\n",
    "\n",
    "tau = []\n",
    "for i in range(len(y))[1:]:    \n",
    "    tau.append(sum(y[:i]))\n",
    "    \n",
    "t0 = sp.describe(y).mean\n",
    "\n",
    "tau_z = []\n",
    "tau_z = get_digits_with_equal_length (tau, tau_z, t0)\n",
    "\n",
    "m = int(tau[-1]/t0)\n",
    "\n",
    "count_of_request = []\n",
    "for i in range(len(tau_z)-1):\n",
    "    count_of_request.append(get_digit_length(tau,tau_z,i))\n",
    "\n",
    "request_count_per_holders_interval = collections.Counter(count_of_request)\n",
    "#print(request_count_per_holders_interval)\n",
    "\n",
    "table_data = dict(request_count_per_holders_interval)\n",
    "table_index_order = list(table_data)\n",
    "table_index_order.sort()\n",
    "table_series = pd.Series(table_data, index=table_index_order)\n",
    "#print(series)#,series.index,series.values)\n",
    "\n",
    "lablels = {'counter': 'Количество заявок', 'counter_freq':'Число интервалов, на которых наблюдалось это число заявок'}\n",
    "df_data = {lablels['counter']: table_series.index, lablels['counter_freq']: table_series.values}\n",
    "df = pd.DataFrame(data=df_data)\n",
    "display(df.T)"
   ]
  },
  {
   "cell_type": "code",
   "execution_count": 100,
   "metadata": {},
   "outputs": [
    {
     "name": "stdout",
     "output_type": "stream",
     "text": [
      "Проверим гипотезу: \n",
      "  Н0 – с.в. etta(t0) распределена по закону Пуассона с параметром lambda*t0\n",
      "r степеней свободы:  5\n",
      "R0, alpha, r =  1.9269036355766296 , 0.05 , 5\n",
      "Гипотеза H0 не овтергается \n",
      " 1.9269036355766296 < 11.070497693516351\n"
     ]
    }
   ],
   "source": [
    "from scipy.stats import poisson\n",
    "k=max(count_of_request)\n",
    "m=sum(table_series.values)\n",
    "r = k\n",
    "\n",
    "ni = list(table_series.values)\n",
    "\n",
    "mu=lmbd*t0\n",
    "mpi = [m*poisson.pmf(ki, mu) for ki in table_series.index]\n",
    "hypothesis_description = \"Н0 – с.в. etta(t0) распределена по закону Пуассона с параметром lambda*t0\"\n",
    "test_hypothesis (hypothesis_description, ni,mpi)"
   ]
  },
  {
   "cell_type": "code",
   "execution_count": null,
   "metadata": {},
   "outputs": [],
   "source": []
  },
  {
   "cell_type": "code",
   "execution_count": null,
   "metadata": {},
   "outputs": [],
   "source": [
    "\n"
   ]
  },
  {
   "cell_type": "code",
   "execution_count": null,
   "metadata": {},
   "outputs": [],
   "source": []
  }
 ],
 "metadata": {
  "kernelspec": {
   "display_name": "Python 3",
   "language": "python",
   "name": "python3"
  },
  "language_info": {
   "codemirror_mode": {
    "name": "ipython",
    "version": 3
   },
   "file_extension": ".py",
   "mimetype": "text/x-python",
   "name": "python",
   "nbconvert_exporter": "python",
   "pygments_lexer": "ipython3",
   "version": "3.7.3"
  }
 },
 "nbformat": 4,
 "nbformat_minor": 2
}
