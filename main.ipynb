{
 "cells": [
  {
   "cell_type": "code",
   "execution_count": 13,
   "metadata": {},
   "outputs": [
    {
     "name": "stdout",
     "output_type": "stream",
     "text": [
      "0.6931471805599453\n",
      "0.3669845875401002\n",
      "0.7348379850294708\n",
      "1.497866136776995\n",
      "0.06963103366675383\n",
      "0.6364828379064437\n",
      "0.9830564281864164\n",
      "0.15735537241985012\n",
      "0.6931471805599453\n",
      "2.3025850929940455\n"
     ]
    }
   ],
   "source": [
    "import math\n",
    "import random\n",
    "\n",
    "n = 10\n",
    "lmbd = 2\n",
    "\n",
    "\n",
    "y = []\n",
    "\n",
    "def get_y (x):\n",
    "    return (-1)*(math.log(1-x)/lmbd)\n",
    "\n",
    "\n",
    "for i in range(0,n):\n",
    "    y.append( get_y(random.randrange(0, 100, 1)/100) )\n",
    "\n"
   ]
  },
  {
   "cell_type": "code",
   "execution_count": null,
   "metadata": {},
   "outputs": [],
   "source": []
  },
  {
   "cell_type": "code",
   "execution_count": null,
   "metadata": {},
   "outputs": [],
   "source": []
  },
  {
   "cell_type": "code",
   "execution_count": null,
   "metadata": {},
   "outputs": [],
   "source": []
  }
 ],
 "metadata": {
  "kernelspec": {
   "display_name": "Python 3",
   "language": "python",
   "name": "python3"
  },
  "language_info": {
   "codemirror_mode": {
    "name": "ipython",
    "version": 3
   },
   "file_extension": ".py",
   "mimetype": "text/x-python",
   "name": "python",
   "nbconvert_exporter": "python",
   "pygments_lexer": "ipython3",
   "version": "3.7.1"
  }
 },
 "nbformat": 4,
 "nbformat_minor": 2
}
