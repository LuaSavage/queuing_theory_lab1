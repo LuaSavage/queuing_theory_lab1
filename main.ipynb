{
 "cells": [
  {
   "cell_type": "markdown",
   "metadata": {},
   "source": [
    "### Выполнил: - -\n",
    "Для ввода данных выполните код в нижней ячейке"
   ]
  },
  {
   "cell_type": "code",
   "execution_count": 1,
   "metadata": {},
   "outputs": [
    {
     "name": "stdout",
     "output_type": "stream",
     "text": [
      "Введите номер операции: \n",
      "1. Ввести самостоятельно x0, n, lambda. \n",
      "2. Загрузить из файла.\n",
      "2\n"
     ]
    },
    {
     "data": {
      "text/html": [
       "<div>\n",
       "<style scoped>\n",
       "    .dataframe tbody tr th:only-of-type {\n",
       "        vertical-align: middle;\n",
       "    }\n",
       "\n",
       "    .dataframe tbody tr th {\n",
       "        vertical-align: top;\n",
       "    }\n",
       "\n",
       "    .dataframe thead th {\n",
       "        text-align: right;\n",
       "    }\n",
       "</style>\n",
       "<table border=\"1\" class=\"dataframe\">\n",
       "  <thead>\n",
       "    <tr style=\"text-align: right;\">\n",
       "      <th></th>\n",
       "      <th>x0</th>\n",
       "      <th>n</th>\n",
       "      <th>lambda</th>\n",
       "    </tr>\n",
       "  </thead>\n",
       "  <tbody>\n",
       "    <tr>\n",
       "      <th>0</th>\n",
       "      <td>1.0</td>\n",
       "      <td>1.0</td>\n",
       "      <td>1.0</td>\n",
       "    </tr>\n",
       "    <tr>\n",
       "      <th>1</th>\n",
       "      <td>1.0</td>\n",
       "      <td>100.0</td>\n",
       "      <td>0.1</td>\n",
       "    </tr>\n",
       "  </tbody>\n",
       "</table>\n",
       "</div>"
      ],
      "text/plain": [
       "    x0      n  lambda\n",
       "0  1.0    1.0     1.0\n",
       "1  1.0  100.0     0.1"
      ]
     },
     "metadata": {},
     "output_type": "display_data"
    },
    {
     "name": "stdout",
     "output_type": "stream",
     "text": [
      "Выберите номер записи или введите -1 для возврата:\n",
      "1\n",
      "Загружено из записи 1:\n",
      "\n",
      "Можно переходить к запуску кода из нижней ячейки\n"
     ]
    }
   ],
   "source": [
    "import math\n",
    "import random\n",
    "import scipy.stats as sp\n",
    "import pandas as pd\n",
    "from pathlib import Path\n",
    "import os\n",
    "\n",
    "x0, n, lmbd = None, None, None\n",
    "\n",
    "def load_from_csv():\n",
    "    file_path = Path(os.path.abspath(os.getcwd())+\"/data.csv\")\n",
    "    if file_path.is_file():\n",
    "        return pd.read_csv('data.csv')\n",
    "    return pd.DataFrame(data= {'x0': [], 'n': [], 'lambda': []})\n",
    "\n",
    "def save_data(df):\n",
    "    df.to_csv('data.csv', index=False)\n",
    "    return df\n",
    "\n",
    "def load_data():    \n",
    "    return load_from_csv()\n",
    "\n",
    "def add_data (df):\n",
    "    return df.append({'x0': x0, 'n': n, 'lambda': lmbd}, ignore_index=True)\n",
    "   \n",
    "input_data_frame = load_data()\n",
    "\n",
    "while True:\n",
    "    operation_num = int(input(\"Введите номер операции: \\n1. Ввести самостоятельно x0, n, lambda. \\n2. Загрузить из файла.\\n\"))\n",
    "\n",
    "    if operation_num == 1:\n",
    "        n = int(input(\"Введите n: \" ))\n",
    "        lmbd = float(input(\"Введите lmbd: \"))\n",
    "        x0 = float(input(\"Введите x0: \"))\n",
    "\n",
    "        if int(input(\"Сохранить введенные данные?: \\n1. Да \\n2. Нет\\n\")) == 1:\n",
    "            print(\"Новое состояние хранилища:\\n\")\n",
    "            input_data_frame = save_data(add_data(input_data_frame))\n",
    "            display(input_data_frame)\n",
    "        break\n",
    "\n",
    "    if operation_num == 2:\n",
    "        display(input_data_frame)\n",
    "        row_number = int(input(\"Выберите номер записи или введите -1 для возврата:\\n\"))\n",
    "        if row_number >= 0:\n",
    "            row = input_data_frame.iloc[int(row_number)]\n",
    "            x0, n, lmbd = float(row[\"x0\"]),int(row[\"n\"]),float(row[\"lambda\"])\n",
    "            print(\"Загружено из записи \" +str(row_number)+ \":\\n\")\n",
    "            break\n",
    "\n",
    "print(\"Можно переходить к запуску кода из нижней ячейки\")"
   ]
  },
  {
   "cell_type": "code",
   "execution_count": 6,
   "metadata": {},
   "outputs": [
    {
     "name": "stdout",
     "output_type": "stream",
     "text": [
      "7.730476094871648\n",
      "540.2650979187239\n",
      "0.004837418035959523\n"
     ]
    }
   ],
   "source": [
    "x, y = [], []\n",
    "\n",
    "def get_expected_value_theory():\n",
    "    return 1/lmbd\n",
    "\n",
    "def get_expected_value_practice():\n",
    "    #return (1/n)*sum(y)\n",
    "    return sp.describe(y).mean\n",
    "\n",
    "def get_err (theory, practice):\n",
    "    return (abs(theory-practice)/theory)*100\n",
    "\n",
    "def get_expected_value_err():\n",
    "    return get_err(get_expected_value_theory(), get_expected_value_practice())\n",
    "\n",
    "def get_dispersion_theory():\n",
    "    return 1/(lmbd**2) \n",
    "\n",
    "def get_dispersion_practice():\n",
    "    squared_deviation = []\n",
    "    for yi in y:\n",
    "        squared_deviation.append( abs(yi-get_expected_value_practice()) )    \n",
    "    return sum(squared_deviation)\n",
    "\n",
    "def get_dispersion_err():\n",
    "    return get_err(get_dispersion_theory(), get_dispersion_practice())\n",
    "\n",
    "def get_distribution_theory(x):\n",
    "    return 1-math.exp((-1)*lmbd*x)\n",
    "\n",
    "def get_interval_count_less_x(x):\n",
    "    count = 0\n",
    "    for yi in y:\n",
    "        if (yi < x):\n",
    "            count += 1\n",
    "    return count\n",
    "\n",
    "def get_distribution_practice(x):\n",
    "    return get_interval_count_less_x(x)/n\n",
    "\n",
    "def get_distribution_err(x):\n",
    "    return abs(get_distribution_theory(x)-get_distribution_practice(x))\n",
    "\n",
    "\n",
    "def get_y (x):\n",
    "    return (-1)*(math.log(1-x)/lmbd)\n",
    "\n",
    "\n",
    "for i in range(0,n):\n",
    "    x.append(random.randrange(0, 100, 1)/100)\n",
    "    y.append( get_y(x[-1]) )\n",
    "\n",
    "print(get_expected_value_err())\n",
    "print(get_dispersion_err())\n",
    "print(get_distribution_err(x0))\n"
   ]
  },
  {
   "cell_type": "markdown",
   "metadata": {},
   "source": [
    "### Гистограмма\n"
   ]
  },
  {
   "cell_type": "code",
   "execution_count": 11,
   "metadata": {
    "scrolled": true
   },
   "outputs": [
    {
     "data": {
      "text/plain": [
       "<matplotlib.axes._subplots.AxesSubplot at 0xaa01160>"
      ]
     },
     "execution_count": 11,
     "metadata": {},
     "output_type": "execute_result"
    },
    {
     "data": {
      "image/png": "[encoded data removed]",
      "text/plain": [
       "<Figure size 432x288 with 1 Axes>"
      ]
     },
     "metadata": {
      "needs_background": "light"
     },
     "output_type": "display_data"
    }
   ],
   "source": [
    "import numpy as np\n",
    "import matplotlib.pyplot as plt\n",
    "\n",
    "\n",
    "z = []\n",
    "frequency_density = []\n",
    "\n",
    "def get_sturges_digit_count ():\n",
    "    m = 1.44*math.log(n) + 1\n",
    "    m = int(m)\n",
    "    return m\n",
    "\n",
    "def get_digits_with_equal_length ():\n",
    "    m = 1.44*math.log(n) + 1    \n",
    "    mean_length = sum(y)/m\n",
    "\n",
    "    z.insert(1,0)\n",
    "    for i in range(1,int(m)):\n",
    "        z.insert(i, z[i-1]+mean_length)           \n",
    "\n",
    "    return z  \n",
    "\n",
    "\n",
    "def get_digit_length (i):\n",
    "\n",
    "    if (i < 0) or (i + 1  >= len(z)):\n",
    "        return False\n",
    "    \n",
    "    y_sorted = y[:]\n",
    "    y_sorted.sort()\n",
    "\n",
    "    interval = pd.Interval(left=z[i], right=z[i+1], closed = \"left\")\n",
    "        \n",
    "    digit_len = 0\n",
    "    \n",
    "    for y_i in range(len(y_sorted)):\n",
    "        summ = sum(y_sorted[0:y_i])        \n",
    "        if sum(y_sorted[0:y_i]) in interval:\n",
    "            digit_len+=1\n",
    "    \n",
    "    return digit_len\n",
    "\n",
    "\n",
    "def get_frequency_density ():\n",
    "    for i in range(len(z)-1):\n",
    "        delta_i = z[i+1]-z[i]\n",
    "        density = get_digit_length(i)/(n*delta_i)\n",
    "        frequency_density.insert(i,float(density))\n",
    "\n",
    "            \n",
    "get_digits_with_equal_length ()\n",
    "get_frequency_density ()\n",
    "\n",
    "\n",
    "y_sorted= y[:]\n",
    "y_sorted.sort()\n",
    "\n",
    "import seaborn \n",
    "\n",
    "new_z = z[1:]\n",
    "\n",
    "seaborn.barplot(x = new_z, y = frequency_density)\n"
   ]
  },
  {
   "cell_type": "code",
   "execution_count": 12,
   "metadata": {},
   "outputs": [
    {
     "name": "stdout",
     "output_type": "stream",
     "text": [
      "Мера похожести:  1.5859575896171976e-05\n"
     ]
    }
   ],
   "source": [
    "#распр плотности\n",
    "def get_density_distribution(x):\n",
    "    return lmbd*math.exp((-1)*lmbd*x)\n",
    "\n",
    "\n",
    "#похожесть\n",
    "def get_measure_of_similarity(): \n",
    "    deviations = []\n",
    "    \n",
    "    for i in range(len(z)-1):\n",
    "        average_z = (z[i] + z[i+1])/2\n",
    "        deviation = (get_density_distribution(average_z) - frequency_density[i])**2\n",
    "        deviations.append(deviation)\n",
    "    return sum(deviations)\n",
    "\n",
    "print(\"Мера похожести: \", get_measure_of_similarity())"
   ]
  },
  {
   "cell_type": "markdown",
   "metadata": {},
   "source": [
    "### Часть 3"
   ]
  },
  {
   "cell_type": "code",
   "execution_count": 39,
   "metadata": {},
   "outputs": [
    {
     "name": "stdout",
     "output_type": "stream",
     "text": [
      "0.9999943885502227 0.0\n",
      "0.9999999999685116 0.9999943885502227\n",
      "0.9999999999999998 0.9999999999685116\n",
      "1.0 0.9999999999999998\n",
      "1.0 1.0\n"
     ]
    },
    {
     "ename": "ZeroDivisionError",
     "evalue": "float division by zero",
     "output_type": "error",
     "traceback": [
      "\u001b[1;31m---------------------------------------------------------------------------\u001b[0m",
      "\u001b[1;31mZeroDivisionError\u001b[0m                         Traceback (most recent call last)",
      "\u001b[1;32m<ipython-input-39-cd6de4890233>\u001b[0m in \u001b[0;36m<module>\u001b[1;34m\u001b[0m\n\u001b[0;32m     17\u001b[0m     \u001b[1;32mreturn\u001b[0m \u001b[0msum\u001b[0m\u001b[1;33m(\u001b[0m\u001b[0melements\u001b[0m\u001b[1;33m)\u001b[0m\u001b[1;33m\u001b[0m\u001b[1;33m\u001b[0m\u001b[0m\n\u001b[0;32m     18\u001b[0m \u001b[1;33m\u001b[0m\u001b[0m\n\u001b[1;32m---> 19\u001b[1;33m \u001b[0mget_measure_of_discrepancy\u001b[0m\u001b[1;33m(\u001b[0m\u001b[1;33m)\u001b[0m\u001b[1;33m\u001b[0m\u001b[1;33m\u001b[0m\u001b[0m\n\u001b[0m",
      "\u001b[1;32m<ipython-input-39-cd6de4890233>\u001b[0m in \u001b[0;36mget_measure_of_discrepancy\u001b[1;34m()\u001b[0m\n\u001b[0;32m     11\u001b[0m         \u001b[0ml_i\u001b[0m \u001b[1;33m=\u001b[0m \u001b[0mget_digit_length\u001b[0m\u001b[1;33m(\u001b[0m\u001b[0mi\u001b[0m\u001b[1;33m)\u001b[0m\u001b[1;33m\u001b[0m\u001b[1;33m\u001b[0m\u001b[0m\n\u001b[0;32m     12\u001b[0m \u001b[1;33m\u001b[0m\u001b[0m\n\u001b[1;32m---> 13\u001b[1;33m         \u001b[0mr_0_i\u001b[0m \u001b[1;33m=\u001b[0m \u001b[1;33m(\u001b[0m\u001b[1;33m(\u001b[0m\u001b[0ml_i\u001b[0m \u001b[1;33m-\u001b[0m \u001b[1;33m(\u001b[0m\u001b[0mn\u001b[0m\u001b[1;33m*\u001b[0m\u001b[0mp_i\u001b[0m\u001b[1;33m)\u001b[0m\u001b[1;33m)\u001b[0m\u001b[1;33m**\u001b[0m\u001b[1;36m2\u001b[0m\u001b[1;33m)\u001b[0m\u001b[1;33m/\u001b[0m\u001b[1;33m(\u001b[0m\u001b[0mn\u001b[0m\u001b[1;33m*\u001b[0m\u001b[0mp_i\u001b[0m\u001b[1;33m)\u001b[0m\u001b[1;33m\u001b[0m\u001b[1;33m\u001b[0m\u001b[0m\n\u001b[0m\u001b[0;32m     14\u001b[0m \u001b[1;33m\u001b[0m\u001b[0m\n\u001b[0;32m     15\u001b[0m         \u001b[0melements\u001b[0m\u001b[1;33m.\u001b[0m\u001b[0mappend\u001b[0m\u001b[1;33m(\u001b[0m\u001b[0mr_0_i\u001b[0m\u001b[1;33m)\u001b[0m\u001b[1;33m\u001b[0m\u001b[1;33m\u001b[0m\u001b[0m\n",
      "\u001b[1;31mZeroDivisionError\u001b[0m: float division by zero"
     ]
    }
   ],
   "source": [
    "r = get_sturges_digit_count () - 1\n",
    "\n",
    "# мера расхождения R0\n",
    "def get_measure_of_discrepancy():\n",
    "    elements = []\n",
    "    m = get_sturges_digit_count ()\n",
    "    \n",
    "    for i in range(m-1):\n",
    "        p_i = get_distribution_theory(z[i+1])-get_distribution_theory(z[i])\n",
    "        print((get_distribution_theory(z[i+1])), get_distribution_theory(z[i]))     \n",
    "        l_i = get_digit_length(i)\n",
    "        \n",
    "        r_0_i = ((l_i - (n*p_i))**2)/(n*p_i)\n",
    "\n",
    "        elements.append(r_0_i)\n",
    "        \n",
    "    return sum(elements)\n",
    "        \n",
    "get_measure_of_discrepancy()"
   ]
  },
  {
   "cell_type": "code",
   "execution_count": null,
   "metadata": {},
   "outputs": [],
   "source": []
  },
  {
   "cell_type": "code",
   "execution_count": null,
   "metadata": {},
   "outputs": [],
   "source": []
  }
 ],
 "metadata": {
  "kernelspec": {
   "display_name": "Python 3",
   "language": "python",
   "name": "python3"
  },
  "language_info": {
   "codemirror_mode": {
    "name": "ipython",
    "version": 3
   },
   "file_extension": ".py",
   "mimetype": "text/x-python",
   "name": "python",
   "nbconvert_exporter": "python",
   "pygments_lexer": "ipython3",
   "version": "3.7.1"
  }
 },
 "nbformat": 4,
 "nbformat_minor": 2
}
