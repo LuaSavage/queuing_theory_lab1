{
 "cells": [
  {
   "cell_type": "markdown",
   "metadata": {},
   "source": [
    "Для ввода данных выполните код в нижней ячейке"
   ]
  },
  {
   "cell_type": "code",
   "execution_count": 1,
   "metadata": {},
   "outputs": [
    {
     "name": "stdout",
     "output_type": "stream",
     "text": [
      "Menu.\n",
      "Выберите способ ввода параметров\n",
      "0 .  Ввести самостоятельно x0, n, lambda. \n",
      "1 .  Загрузить из файла. \n",
      "2 .  Выход \n",
      "Введите номер операции: 0\n",
      "Введите n: 10000\n",
      "Введите lambda: 5\n",
      "Введите x0: 1\n",
      "Menu.\n",
      "Сохранить введенные данные?\n",
      "0 .  Да \n",
      "1 .  Нет \n",
      "Введите номер операции: 1\n"
     ]
    },
    {
     "data": {
      "text/plain": [
       "True"
      ]
     },
     "execution_count": 1,
     "metadata": {},
     "output_type": "execute_result"
    }
   ],
   "source": [
    "import math\n",
    "import random\n",
    "import scipy.stats as sp\n",
    "import pandas as pd\n",
    "from pathlib import Path\n",
    "import os\n",
    "from textmenu.menu import TextMenu \n",
    "from textmenu.item import TextMenuItem\n",
    "\n",
    "global n, x0, lmbd\n",
    "\n",
    "def load_from_csv():\n",
    "    file_path = Path(os.path.abspath(os.getcwd())+\"/data.csv\")\n",
    "    if file_path.is_file():\n",
    "        return pd.read_csv('data.csv')\n",
    "    return pd.DataFrame(data= {'x0': [], 'n': [], 'lambda': []})\n",
    "\n",
    "def save_data(df):\n",
    "    df.to_csv('data.csv', index=False)\n",
    "    return df\n",
    "\n",
    "def visualise_data():\n",
    "    global input_data_frame\n",
    "    display(input_data_frame)\n",
    "\n",
    "def add_data (df):\n",
    "    return df.append({'x0': x0, 'n': n, 'lambda': lmbd}, ignore_index=True)\n",
    "   \n",
    "input_data_frame = load_from_csv()\n",
    "\n",
    "def save_inputed_data ():\n",
    "    print(\"Новое состояние хранилища:\\n\")\n",
    "    global input_data_frame\n",
    "    input_data_frame = save_data(add_data(input_data_frame))\n",
    "    visualise_data()\n",
    "    \n",
    "save_data_menu = TextMenu(description=\"Сохранить введенные данные?\",items = [\n",
    "TextMenuItem(description=\"Да\", todo=[save_inputed_data,[]]),\n",
    "TextMenuItem(description=\"Нет\"),\n",
    "])\n",
    "    \n",
    "def input_data_manually ():\n",
    "    global n, x0, lmbd\n",
    "    n = int(input(\"Введите n: \" ))\n",
    "    lmbd = float(input(\"Введите lambda: \"))\n",
    "    x0 = float(input(\"Введите x0: \"))\n",
    "    save_data_menu.display()\n",
    "\n",
    "def enter_row_number():\n",
    "    global n, x0, lmbd\n",
    "    row_number = int(input(\"Введите номер записи\\n\"))\n",
    "    row = input_data_frame.iloc[int(row_number)]\n",
    "    x0, n, lmbd = float(row[\"x0\"]), int(row[\"n\"]), float(row[\"lambda\"])\n",
    "    print(\"Загружено из записи \" +str(row_number)+ \":\\n\")\n",
    "    print(\"x0, n, lambda = \",x0,\", \",n,\", \",lmbd)\n",
    "\n",
    "load_row_menu = TextMenu(description=\"Выберите действие\",items=[\n",
    "TextMenuItem(description=\"Ввести номер записи\", todo=[enter_row_number,[]]),\n",
    "TextMenuItem(description=\"Назад\"),\n",
    "])\n",
    "\n",
    "main_menu = TextMenu(description=\"Выберите способ ввода параметров\",items = [\n",
    "TextMenuItem(description=\"Ввести самостоятельно x0, n, lambda.\", todo=[input_data_manually,[]]),\n",
    "TextMenuItem(description=\"Загрузить из файла.\", sub_menu = load_row_menu, todo=[visualise_data,[]],),\n",
    "], default_exit=True)\n",
    "\n",
    "load_row_menu.items[1].sub_menu = main_menu\n",
    "main_menu.display()"
   ]
  },
  {
   "cell_type": "code",
   "execution_count": 2,
   "metadata": {
    "scrolled": true
   },
   "outputs": [
    {
     "name": "stdout",
     "output_type": "stream",
     "text": [
      "Мат ожидание \n",
      " Теория: 0.2 ; практика: 0.20029392658703854 ; отклонение: 0.1469632935192644 %\n",
      "Дисперсия \n",
      " Теория: 0.04 ; практика: 0.03997265389205295 ; отклонение: 0.06836526986762903 %\n",
      "Функция распределения \n",
      " Теория: 0.9932620530009145 ; практика: 0.9936 ; отклонение: 0.0003379469990855144\n"
     ]
    }
   ],
   "source": [
    "global x, y\n",
    "x, y = [], []\n",
    "\n",
    "def get_expected_value_theory():\n",
    "    return 1/lmbd\n",
    "\n",
    "def get_expected_value_practice():\n",
    "    #return (1/n)*sum(y)\n",
    "    return sp.describe(y).mean\n",
    "\n",
    "def get_err (theory, practice):\n",
    "    return (abs(theory-practice)/theory)*100\n",
    "\n",
    "def get_expected_value_err():\n",
    "    return get_err(get_expected_value_theory(), get_expected_value_practice())\n",
    "\n",
    "def get_dispersion_theory():\n",
    "    return 1/(lmbd**2) \n",
    "\n",
    "def get_dispersion_practice():\n",
    "    squared_deviation = []\n",
    "    for yi in y:\n",
    "        #squared_deviation.append( abs(yi-get_expected_value_practice()) )\n",
    "        squared_deviation.append( (yi-get_expected_value_practice())**2 )    \n",
    "    return sum(squared_deviation)*(1/n)\n",
    "\n",
    "def get_dispersion_err():\n",
    "    return get_err(get_dispersion_theory(), get_dispersion_practice())\n",
    "\n",
    "def get_distribution_theory(x):\n",
    "    return 1-math.exp((-1)*lmbd*x) if x>0 else 0\n",
    "\n",
    "def get_interval_count_less_x(x):\n",
    "    count = 0\n",
    "    for yi in y:\n",
    "        if (yi < x):\n",
    "            count += 1\n",
    "    return count\n",
    "\n",
    "def get_distribution_practice(x):\n",
    "    return get_interval_count_less_x(x)/n\n",
    "\n",
    "def get_distribution_err(x):\n",
    "    return abs(get_distribution_theory(x)-get_distribution_practice(x))\n",
    "\n",
    "\n",
    "def get_y (x):\n",
    "    return (-1)*(math.log(1-x)/lmbd)\n",
    "\n",
    "\n",
    "for i in range(0,n):\n",
    "    #rnd_value = random.uniform(0, 1)\n",
    "    rnd_value = random.random()\n",
    "    x.append(rnd_value)\n",
    "    y.append( get_y(rnd_value) )\n",
    "    \n",
    "print(\"Мат ожидание \\n Теория:\",get_expected_value_theory(),\"; практика:\",get_expected_value_practice(),\"; отклонение:\",get_expected_value_err(),\"%\")\n",
    "print(\"Дисперсия \\n Теория:\",get_dispersion_theory(),\"; практика:\",get_dispersion_practice(),\"; отклонение:\",get_dispersion_err(),\"%\")\n",
    "print(\"Функция распределения \\n Теория:\",get_distribution_theory(x0),\"; практика:\",get_distribution_practice(x0),\"; отклонение:\",get_distribution_err(x0))"
   ]
  },
  {
   "cell_type": "markdown",
   "metadata": {},
   "source": [
    "### Построение гистограммы\n"
   ]
  },
  {
   "cell_type": "code",
   "execution_count": 3,
   "metadata": {},
   "outputs": [],
   "source": [
    "import numpy as np\n",
    "import matplotlib.pyplot as plt\n",
    "import seaborn as sns\n",
    "\n",
    "global z\n",
    "global frequency_density\n",
    "z = []\n",
    "frequency_density = []\n",
    "\n",
    "def get_density_distribution(x):\n",
    "    return lmbd*math.exp((-1)*lmbd*x)\n",
    "\n",
    "def get_sturges_digit_count ():\n",
    "    m = 1.44*math.log(n) + 1\n",
    "    return math.ceil(m)\n",
    "\n",
    "def get_sturges_digit_length():\n",
    "    m = get_sturges_digit_count ()\n",
    "    mean_length = max(y)/m\n",
    "\n",
    "    return mean_length\n",
    "\n",
    "def get_digits_by_count (y, z, count):\n",
    "    z = np.histogram(y, density=\"true\", bins = count, range=(0,max(y)))\n",
    "    return list(z[1])  \n",
    "\n",
    "def get_digits_with_equal_length (y, z, length):    \n",
    "    m = int(max(y)/length)\n",
    "    return get_digits_by_count (y, z, m)\n",
    "\n",
    "#def get_digit_length (y,z,i):    \n",
    "#    y_sorted = y[:]\n",
    "#    y_sorted.sort()\n",
    "#    np_hist = np.histogram(y_sorted, bins = z)\n",
    "#    return np_hist[0][i]\n",
    "\n",
    "def get_digit_length (y,z,i):    \n",
    "    count = 0\n",
    "    for y_i in y:\n",
    "        if y_i>=z[i] and y_i<z[i+1]:\n",
    "            count = count + 1\n",
    "    return count\n",
    "\n",
    "def get_digit_count (z_arr):\n",
    "    return len(z_arr)-1   \n",
    "\n",
    "def get_frequency_density ():\n",
    "    global frequency_density\n",
    "    frequency_density = []\n",
    "    for i in range(len(z)-1):\n",
    "        delta_i = z[i+1]-z[i]\n",
    "        density = get_digit_length(y,z,i)/(n*delta_i)\n",
    "        frequency_density.insert(i,float(density))"
   ]
  },
  {
   "cell_type": "code",
   "execution_count": 4,
   "metadata": {
    "scrolled": false
   },
   "outputs": [
    {
     "name": "stdout",
     "output_type": "stream",
     "text": [
      "Menu.\n",
      "Выберите способ определения разрядов гистограммы\n",
      "0 .  Все разряды одинаковой длины. Их количество определяется формулой Стёрджеса \n",
      "1 .  Разряды выбираются таким образом, чтобы в них состояло примерно одинаковое число значений \n",
      "2 .  Сначала разряды выбираются по формуле Стёрджеса, затем наиболее крупные делятся, а менее крупные объединяются. \n",
      "3 .  Ввод вручную \n",
      "Введите номер операции: 0\n"
     ]
    },
    {
     "data": {
      "text/plain": [
       "True"
      ]
     },
     "execution_count": 4,
     "metadata": {},
     "output_type": "execute_result"
    }
   ],
   "source": [
    "import scipy\n",
    "\n",
    "def set_sturges_digits():\n",
    "    global z\n",
    "    z = get_digits_by_count (y, z, get_sturges_digit_count())\n",
    "\n",
    "def set_digits_with_equal_height():\n",
    "    global z\n",
    "    z = get_digits_by_count (y, z, get_sturges_digit_count())\n",
    "    \n",
    "    y_sorted = y[:]\n",
    "    y_sorted.sort()\n",
    "    np_hist = np.histogram(y_sorted, bins = get_sturges_digit_count(), range=(0,max(y)))\n",
    "    \n",
    "    height = list(np_hist[0])\n",
    "    height_median = scipy.median(height)\n",
    "    \n",
    "    h_i = 0\n",
    "    z_i = 1\n",
    "\n",
    "    while h_i <len(height):\n",
    "        if height[h_i]>height_median:\n",
    "            half = (z[z_i]-z[z_i-1])/2\n",
    "            z.insert(z_i,z[z_i]-half)\n",
    "            z_i+=2\n",
    "        elif height[h_i]<height_median:\n",
    "            if z_i <(len(z)-1):\n",
    "                z.pop(z_i)\n",
    "        else:\n",
    "            z_i+=1\n",
    "        h_i+=1\n",
    "    \n",
    "def set_digits_with_approximately_equal_height():\n",
    "    global z\n",
    "    z = [0]\n",
    "    m = int(input(\"Введите количество разрядов: \" ))\n",
    "    y_sorted = (y[:])\n",
    "    y_sorted.sort()\n",
    "    \n",
    "    mean_height = int(len(y)/m)\n",
    "    \n",
    "    for y_i in y_sorted:\n",
    "        i = y_sorted.index(y_i)\n",
    "        if (i+1)-((len(z)-1)*mean_height) >= mean_height:\n",
    "            #print(mean_height,(i+1)-((len(z)-1)*mean_height))\n",
    "            z.append(y_sorted[i])\n",
    "        \n",
    "        if len(z)>m:\n",
    "            break\n",
    "            \n",
    "def set_manual_digits():\n",
    "    global z\n",
    "    z = [0]\n",
    "    print(\"max(y)=\",max(y),\"z1=0\")\n",
    "    print(\"Введите границы разрядов.\\nВвод будет продолжаться до превышения вводимым числом max(y)\")\n",
    "    \n",
    "    while z[-1] < max(y):\n",
    "        z.append(float(input(\"Введите следующую границу разряда: \" )))\n",
    "    \n",
    "digit_mode_menu=TextMenu(description=\"Выберите способ определения разрядов гистограммы\", items = [\n",
    "TextMenuItem(description=\"Все разряды одинаковой длины. Их количество определяется формулой Стерджесса\", todo=[set_sturges_digits,[]]),\n",
    "TextMenuItem(description=\"Разряды выбираются таким образом, чтобы в них состояло примерно одинаковое число значений\", todo=[set_digits_with_approximately_equal_height,[]]),\n",
    "TextMenuItem(description=\"Сначала разряды выбираются по формуле Стерджесса, затем наиболее крупные делятся, а менее крупные объединяются.\", todo=[set_digits_with_equal_height,[]]),\n",
    "TextMenuItem(description=\"Ввод вручную\", todo=[set_manual_digits,[]])\n",
    "])\n",
    "digit_mode_menu.display()"
   ]
  },
  {
   "cell_type": "code",
   "execution_count": 5,
   "metadata": {
    "scrolled": false
   },
   "outputs": [
    {
     "data": {
      "image/png": "[encoded data removed]",
      "text/plain": [
       "<Figure size 432x288 with 1 Axes>"
      ]
     },
     "metadata": {
      "needs_background": "light"
     },
     "output_type": "display_data"
    },
    {
     "name": "stdout",
     "output_type": "stream",
     "text": [
      "Мера похожести:  0.0058131876396072275\n"
     ]
    }
   ],
   "source": [
    "get_frequency_density ()\n",
    "\n",
    "y_sorted= y[:]\n",
    "y_sorted.sort()\n",
    "\n",
    "#new_z = z[1:]\n",
    "#sns.barplot(x = new_z, y = frequency_density)\n",
    "\n",
    "#plt.figure()\n",
    "\n",
    "fig, ax = plt.subplots()\n",
    "plt.hist(y_sorted, density=\"true\", bins = z, range=(0,max(y)), label=('Гистограмма f(x)'))\n",
    "plot_range = np.arange(z[0],z[-1], 0.01)\n",
    "plot_y = [get_density_distribution(x) for x in plot_range]\n",
    "plt.plot(plot_range, plot_y, color='purple', linewidth=2, label=('f(x)'))\n",
    "\n",
    "fz = [(z[i+1]+z[i])/2 for i in range(len(z)-1)]\n",
    "plt.plot(fz, frequency_density, color=\"red\",marker = \"o\",linewidth=0, markersize=3, label=('Плотности частоты f*'))\n",
    "ax.legend()\n",
    "plt.show()\n",
    "\n",
    "#похожесть\n",
    "def get_measure_of_similarity(): \n",
    "    deviations = []\n",
    "    \n",
    "    for i in range(len(z)-1):\n",
    "        average_z = (z[i] + z[i+1])/2\n",
    "        deviation = (get_density_distribution(average_z) - frequency_density[i])**2\n",
    "        deviations.append(deviation)\n",
    "    return sum(deviations)\n",
    "\n",
    "print(\"Мера похожести: \", get_measure_of_similarity())\n"
   ]
  },
  {
   "cell_type": "markdown",
   "metadata": {},
   "source": [
    "### Часть 3"
   ]
  },
  {
   "cell_type": "code",
   "execution_count": 6,
   "metadata": {},
   "outputs": [],
   "source": [
    "from scipy.stats import chi2\n",
    "\n",
    "alpha = 0.05\n",
    "\n",
    "def enter_alpha():\n",
    "    global alpha\n",
    "    alpha = float(input(\"Введите alpha: \" ))  \n",
    "\n",
    "# R0\n",
    "def get_measure_of_discrepancy(observed,expected):\n",
    "    elements = [] \n",
    "\n",
    "    for i in range(len(observed)-1):\n",
    "        r_0_i = ((observed[i] - expected[i])**2)/expected[i]\n",
    "        #print(i,observed[i],expected[i],r_0_i)\n",
    "        elements.append(r_0_i)\n",
    "        \n",
    "    return sum(elements)\n",
    "\n",
    "def test_hypothesis (description, observed,expected,digits,degrees_of_freedom):\n",
    "    print(\"Проверим гипотезу: \\n \",description)\n",
    "    \n",
    "    alpha_menu=TextMenu(description=\"Уровень значимости равен \"+str(alpha)+\". Изменить?\", items = [\n",
    "    TextMenuItem(description=\"Да\", todo=[enter_alpha,[]]),\n",
    "    ], default_exit=True)\n",
    "    alpha_menu.display()  \n",
    "    \n",
    "    r = degrees_of_freedom\n",
    "    \n",
    "    quantil_chi2 = chi2.ppf(1-alpha, r)\n",
    "    \n",
    "    R0 = get_measure_of_discrepancy(observed,expected)\n",
    "    \n",
    "    print(\"r степеней свободы: \",r)    \n",
    "    print(\"R0, alpha, r = \",R0,\",\",alpha,\",\",r)\n",
    "    \n",
    "    if R0>=quantil_chi2:\n",
    "        print(\"Гипотеза H0 отклоняется \\n\",R0,\">=\",quantil_chi2)\n",
    "    else:\n",
    "        print(\"Гипотеза H0 подтверждается \\n\",R0,\"<\",quantil_chi2)"
   ]
  },
  {
   "cell_type": "code",
   "execution_count": 7,
   "metadata": {
    "scrolled": false
   },
   "outputs": [
    {
     "name": "stdout",
     "output_type": "stream",
     "text": [
      "Проверим гипотезу: \n",
      "  H0 – с.в. распределена показательно с параметром lambda = 5.0\n",
      "Menu.\n",
      "Уровень значимости равен 0.05. Изменить?\n",
      "0 .  Да \n",
      "1 .  Выход \n",
      "Введите номер операции: 1\n",
      "r степеней свободы:  14\n",
      "R0, alpha, r =  12.770972827479516 , 0.05 , 14\n",
      "Гипотеза H0 подтверждается \n",
      " 12.770972827479516 < 23.684791304840576\n"
     ]
    }
   ],
   "source": [
    "hypothesis_description = \"H0 – с.в. распределена показательно с параметром lambda = \"+str(lmbd)\n",
    "digit_count = get_digit_count(z)\n",
    "observed = [get_digit_length(y,z,i) for i in range(digit_count)]\n",
    "expected = [n*(get_distribution_theory(z[i+1])-get_distribution_theory(z[i])) for i in range(digit_count)]\n",
    "test_hypothesis (hypothesis_description, observed,expected,z,digit_count-1)"
   ]
  },
  {
   "cell_type": "markdown",
   "metadata": {},
   "source": [
    "### Часть 4"
   ]
  },
  {
   "cell_type": "code",
   "execution_count": 9,
   "metadata": {
    "scrolled": false
   },
   "outputs": [
    {
     "name": "stdout",
     "output_type": "stream",
     "text": [
      "lambda = 5.0 N = 10000 \n",
      "- Значение lambda*t0 желательно в пределах от 3 до 5\n",
      "- N должен быть таким, чтобы значение  m  было не меньше 100.\n",
      "Введите t0: 0.8\n",
      "t0 = 0.8 m = 2504 lambda*t0 = 4.0\n"
     ]
    },
    {
     "data": {
      "text/html": [
       "<div>\n",
       "<style scoped>\n",
       "    .dataframe tbody tr th:only-of-type {\n",
       "        vertical-align: middle;\n",
       "    }\n",
       "\n",
       "    .dataframe tbody tr th {\n",
       "        vertical-align: top;\n",
       "    }\n",
       "\n",
       "    .dataframe thead th {\n",
       "        text-align: right;\n",
       "    }\n",
       "</style>\n",
       "<table border=\"1\" class=\"dataframe\">\n",
       "  <thead>\n",
       "    <tr style=\"text-align: right;\">\n",
       "      <th>Количество заявок</th>\n",
       "      <th>0</th>\n",
       "      <th>1</th>\n",
       "      <th>2</th>\n",
       "      <th>3</th>\n",
       "      <th>4</th>\n",
       "      <th>5</th>\n",
       "      <th>6</th>\n",
       "      <th>7</th>\n",
       "      <th>8</th>\n",
       "      <th>9</th>\n",
       "      <th>10</th>\n",
       "      <th>11</th>\n",
       "      <th>14</th>\n",
       "    </tr>\n",
       "  </thead>\n",
       "  <tbody>\n",
       "    <tr>\n",
       "      <th>Число интервалов, на которых наблюдалось это число заявок</th>\n",
       "      <td>37</td>\n",
       "      <td>191</td>\n",
       "      <td>368</td>\n",
       "      <td>498</td>\n",
       "      <td>480</td>\n",
       "      <td>402</td>\n",
       "      <td>249</td>\n",
       "      <td>149</td>\n",
       "      <td>75</td>\n",
       "      <td>38</td>\n",
       "      <td>11</td>\n",
       "      <td>4</td>\n",
       "      <td>1</td>\n",
       "    </tr>\n",
       "  </tbody>\n",
       "</table>\n",
       "</div>"
      ],
      "text/plain": [
       "Количество заявок                                   0    1    2    3    4   \\\n",
       "Число интервалов, на которых наблюдалось это чи...  37  191  368  498  480   \n",
       "\n",
       "Количество заявок                                    5    6    7   8   9   10  \\\n",
       "Число интервалов, на которых наблюдалось это чи...  402  249  149  75  38  11   \n",
       "\n",
       "Количество заявок                                   11  14  \n",
       "Число интервалов, на которых наблюдалось это чи...   4   1  "
      ]
     },
     "metadata": {},
     "output_type": "display_data"
    }
   ],
   "source": [
    "import collections\n",
    "\n",
    "tau = [sum(y[:i]) for i in range(len(y))[1:]]\n",
    "\n",
    "print(\"lambda =\",lmbd,\"N =\",n,\"\\n- Значение lambda*t0 желательно в пределах от 3 до 5\\n- N должен быть таким, чтобы значение  m  было не меньше 100.\")\n",
    "    \n",
    "t0 = float(input(\"Введите t0: \" ))  \n",
    "m = math.ceil(tau[-1]/t0)\n",
    "\n",
    "print(\"t0 =\",t0,\"m =\",m,\"lambda*t0 =\",lmbd*t0)\n",
    "\n",
    "tau_z = []\n",
    "tau_z = get_digits_with_equal_length (tau, tau_z, t0)\n",
    "\n",
    "count_of_request = []\n",
    "for i in range(len(tau_z)-1):\n",
    "    count_of_request.append(get_digit_length(tau,tau_z,i))\n",
    "\n",
    "request_count_per_holders_interval = collections.Counter(count_of_request)\n",
    "#print(request_count_per_holders_interval)\n",
    "\n",
    "table_data = dict(request_count_per_holders_interval)\n",
    "table_index_order = list(table_data)\n",
    "table_index_order.sort()\n",
    "table_series = pd.Series(table_data, index=table_index_order)\n",
    "#print(series)#,series.index,series.values)\n",
    "\n",
    "lablels = {'counter': 'Количество заявок', 'counter_freq':'Число интервалов, на которых наблюдалось это число заявок'}\n",
    "df_data = {lablels['counter']: table_series.index, lablels['counter_freq']: table_series.values}\n",
    "df = pd.DataFrame(data=df_data)\n",
    "df=df.set_index(lablels['counter'])\n",
    "display(df.T)"
   ]
  },
  {
   "cell_type": "code",
   "execution_count": 11,
   "metadata": {},
   "outputs": [
    {
     "name": "stdout",
     "output_type": "stream",
     "text": [
      "Проверим гипотезу: \n",
      "  Н0 – с.в. etta(t0) распределена по закону Пуассона с параметром lambda*t0\n",
      "Menu.\n",
      "Уровень значимости равен 0.05. Изменить?\n",
      "0 .  Да \n",
      "1 .  Выход \n",
      "Введите номер операции: 1\n",
      "r степеней свободы:  14\n",
      "R0, alpha, r =  4.431012646185953 , 0.05 , 14\n",
      "Гипотеза H0 подтверждается \n",
      " 4.431012646185953 < 23.684791304840576\n"
     ]
    }
   ],
   "source": [
    "from scipy.stats import poisson\n",
    "k=max(count_of_request)\n",
    "ni = list(table_series.values)\n",
    "mu=lmbd*t0\n",
    "mpi = [m*poisson.pmf(ki, mu) for ki in table_series.index]\n",
    "hypothesis_description = \"Н0 – с.в. etta(t0) распределена по закону Пуассона с параметром lambda*t0\"\n",
    "\n",
    "test_hypothesis (hypothesis_description, ni,mpi,tau_z,k)"
   ]
  },
  {
   "cell_type": "code",
   "execution_count": null,
   "metadata": {
    "scrolled": true
   },
   "outputs": [],
   "source": []
  },
  {
   "cell_type": "code",
   "execution_count": null,
   "metadata": {},
   "outputs": [],
   "source": []
  },
  {
   "cell_type": "code",
   "execution_count": null,
   "metadata": {},
   "outputs": [],
   "source": []
  }
 ],
 "metadata": {
  "kernelspec": {
   "display_name": "Python 3",
   "language": "python",
   "name": "python3"
  },
  "language_info": {
   "codemirror_mode": {
    "name": "ipython",
    "version": 3
   },
   "file_extension": ".py",
   "mimetype": "text/x-python",
   "name": "python",
   "nbconvert_exporter": "python",
   "pygments_lexer": "ipython3",
   "version": "3.7.1"
  }
 },
 "nbformat": 4,
 "nbformat_minor": 2
}
