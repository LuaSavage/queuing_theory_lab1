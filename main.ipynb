{
 "cells": [
  {
   "cell_type": "markdown",
   "metadata": {},
   "source": [
    "### Выполнил: Шикри Илья\n"
   ]
  },
  {
   "cell_type": "code",
   "execution_count": 74,
   "metadata": {},
   "outputs": [
    {
     "name": "stdout",
     "output_type": "stream",
     "text": [
      "7.772381062480331\n",
      "627.9903769527218\n",
      "0.00019867330675525305\n"
     ]
    }
   ],
   "source": [
    "import math\n",
    "import random\n",
    "import scipy.stats as sp\n",
    "\n",
    "x0 = 0.2\n",
    "n = 10\n",
    "lmbd = 0.1\n",
    "\n",
    "\n",
    "\n",
    "x, y = [], []\n",
    "\n",
    "\n",
    "def get_expected_value_theory():\n",
    "    return 1/lmbd\n",
    "\n",
    "def get_expected_value_practice():\n",
    "    #return (1/n)*sum(y)\n",
    "    return sp.describe(y).mean\n",
    "\n",
    "def get_err (theory, practice):\n",
    "    return (abs(theory-practice)/theory)*100\n",
    "\n",
    "def get_expected_value_err():\n",
    "    return get_err(get_expected_value_theory(), get_expected_value_practice())\n",
    "\n",
    "def get_dispersion_theory():\n",
    "    return 1/(lmbd**2) \n",
    "\n",
    "def get_dispersion_practice():\n",
    "    squared_deviation = []\n",
    "    for yi in y:\n",
    "        squared_deviation.append( abs(yi-get_expected_value_practice()) )    \n",
    "    return sum(squared_deviation)\n",
    "\n",
    "def get_dispersion_err():\n",
    "    return get_err(get_dispersion_theory(), get_dispersion_practice())\n",
    "\n",
    "def get_distribution_theory(x):\n",
    "    return 1-math.exp((-1)*lmbd*x)\n",
    "\n",
    "def get_interval_count_less_x(x):\n",
    "    count = 0\n",
    "    for yi in y:\n",
    "        if (yi < x):\n",
    "            count += 1\n",
    "    return count\n",
    "\n",
    "def get_distribution_practice(x):\n",
    "    return get_interval_count_less_x(x)/n\n",
    "\n",
    "def get_distribution_err(x):\n",
    "    return abs(get_distribution_theory(x)-get_distribution_practice(x))\n",
    "\n",
    "\n",
    "def get_y (x):\n",
    "    return (-1)*(math.log(1-x)/lmbd)\n",
    "\n",
    "\n",
    "for i in range(0,n):\n",
    "    x.append(random.randrange(0, 100, 1)/100)\n",
    "    y.append( get_y(x[-1]) )\n",
    "\n",
    "print(get_expected_value_err())\n",
    "print(get_dispersion_err())\n",
    "print(get_distribution_err(x0))\n"
   ]
  },
  {
   "cell_type": "markdown",
   "metadata": {},
   "source": [
    "### Далее будет гистограма.."
   ]
  },
  {
   "cell_type": "code",
   "execution_count": 81,
   "metadata": {},
   "outputs": [],
   "source": [
    "import numpy as np\n",
    "import matplotlib.pyplot as plt\n",
    "\n",
    "z = []\n",
    "frequency_density = []\n",
    "\n",
    "def get_digits_with_equal_length ():\n",
    "    m = 1.44*math.log(n) + 1    \n",
    "    mean_length = sum(y)/m\n",
    "\n",
    "    z.insert(1,0)\n",
    "    for i in range(1,n):\n",
    "        z.insert(i, z[i-1]+mean_length)           \n",
    "\n",
    "    return z  \n",
    "\n",
    "\n",
    "def get_digit_length (i):\n",
    "    for yi in range(len(y)):\n",
    "        if z[i]<=sum(y[0:yi]):\n",
    "            return i\n",
    "    return i\n",
    "\n",
    "def get_frequency_density ():\n",
    "    for i in range(len(z)-1):\n",
    "        delta_i = z[i+1]-z[i]\n",
    "        if delta_i> 0 :\n",
    "    \n",
    "            density = get_digit_length(i)/(n*delta_i)\n",
    "            frequency_density.insert(i,float(density))\n",
    "\n",
    "            \n",
    "get_digits_with_equal_length ()\n",
    "get_frequency_density ()\n",
    "\n",
    "\n",
    "\n"
   ]
  },
  {
   "cell_type": "code",
   "execution_count": 85,
   "metadata": {},
   "outputs": [
    {
     "name": "stdout",
     "output_type": "stream",
     "text": [
      "8.578571404205508e-05\n",
      "-7.081070482784688e-05\n"
     ]
    },
    {
     "ename": "ValueError",
     "evalue": "math domain error",
     "output_type": "error",
     "traceback": [
      "\u001b[1;31m---------------------------------------------------------------------------\u001b[0m",
      "\u001b[1;31mValueError\u001b[0m                                Traceback (most recent call last)",
      "\u001b[1;32m<ipython-input-85-97a7a307f0e1>\u001b[0m in \u001b[0;36m<module>\u001b[1;34m\u001b[0m\n\u001b[0;32m     18\u001b[0m \u001b[1;33m\u001b[0m\u001b[0m\n\u001b[0;32m     19\u001b[0m \u001b[1;33m\u001b[0m\u001b[0m\n\u001b[1;32m---> 20\u001b[1;33m \u001b[0mget_measure_of_similarity\u001b[0m\u001b[1;33m(\u001b[0m\u001b[1;33m)\u001b[0m\u001b[1;33m\u001b[0m\u001b[1;33m\u001b[0m\u001b[0m\n\u001b[0m",
      "\u001b[1;32m<ipython-input-85-97a7a307f0e1>\u001b[0m in \u001b[0;36mget_measure_of_similarity\u001b[1;34m()\u001b[0m\n\u001b[0;32m     13\u001b[0m         \u001b[0maverage_z\u001b[0m \u001b[1;33m=\u001b[0m \u001b[1;33m(\u001b[0m\u001b[0mz\u001b[0m\u001b[1;33m[\u001b[0m\u001b[0mi\u001b[0m\u001b[1;33m]\u001b[0m \u001b[1;33m+\u001b[0m \u001b[0mz\u001b[0m\u001b[1;33m[\u001b[0m\u001b[0mi\u001b[0m\u001b[1;33m+\u001b[0m\u001b[1;36m1\u001b[0m\u001b[1;33m]\u001b[0m\u001b[1;33m)\u001b[0m\u001b[1;33m/\u001b[0m\u001b[1;36m2\u001b[0m\u001b[1;33m\u001b[0m\u001b[1;33m\u001b[0m\u001b[0m\n\u001b[0;32m     14\u001b[0m         \u001b[0mprint\u001b[0m\u001b[1;33m(\u001b[0m\u001b[0mget_density_distribution\u001b[0m\u001b[1;33m(\u001b[0m\u001b[0maverage_z\u001b[0m\u001b[1;33m)\u001b[0m \u001b[1;33m-\u001b[0m \u001b[0mfrequency_density\u001b[0m\u001b[1;33m[\u001b[0m\u001b[0mi\u001b[0m\u001b[1;33m]\u001b[0m\u001b[1;33m)\u001b[0m\u001b[1;33m\u001b[0m\u001b[1;33m\u001b[0m\u001b[0m\n\u001b[1;32m---> 15\u001b[1;33m         \u001b[0mdeviation\u001b[0m \u001b[1;33m=\u001b[0m \u001b[0mmath\u001b[0m\u001b[1;33m.\u001b[0m\u001b[0msqrt\u001b[0m\u001b[1;33m(\u001b[0m\u001b[0mget_density_distribution\u001b[0m\u001b[1;33m(\u001b[0m\u001b[0maverage_z\u001b[0m\u001b[1;33m)\u001b[0m \u001b[1;33m-\u001b[0m \u001b[0mfrequency_density\u001b[0m\u001b[1;33m[\u001b[0m\u001b[0mi\u001b[0m\u001b[1;33m]\u001b[0m\u001b[1;33m)\u001b[0m\u001b[1;33m\u001b[0m\u001b[1;33m\u001b[0m\u001b[0m\n\u001b[0m\u001b[0;32m     16\u001b[0m         \u001b[0mdeviations\u001b[0m\u001b[1;33m.\u001b[0m\u001b[0mappend\u001b[0m\u001b[1;33m(\u001b[0m\u001b[0mdeviation\u001b[0m\u001b[1;33m)\u001b[0m\u001b[1;33m\u001b[0m\u001b[1;33m\u001b[0m\u001b[0m\n\u001b[0;32m     17\u001b[0m     \u001b[1;32mreturn\u001b[0m \u001b[0msum\u001b[0m\u001b[1;33m(\u001b[0m\u001b[0mdeviations\u001b[0m\u001b[1;33m)\u001b[0m\u001b[1;33m\u001b[0m\u001b[1;33m\u001b[0m\u001b[0m\n",
      "\u001b[1;31mValueError\u001b[0m: math domain error"
     ]
    },
    {
     "data": {
      "image/png": "[encoded data removed]",
      "text/plain": [
       "<Figure size 432x288 with 1 Axes>"
      ]
     },
     "metadata": {
      "needs_background": "light"
     },
     "output_type": "display_data"
    }
   ],
   "source": [
    "#распр плотности\n",
    "def get_density_distribution(x):\n",
    "    return lmbd*math.exp((-1)*lmbd*x)\n",
    "\n",
    "\n",
    "plt.plot(frequency_density)\n",
    "\n",
    "#похожесть\n",
    "def get_measure_of_similarity(): \n",
    "    deviations = []\n",
    "    \n",
    "    for i in range(len(z)-1):\n",
    "        average_z = (z[i] + z[i+1])/2\n",
    "        print(get_density_distribution(average_z) - frequency_density[i])\n",
    "        deviation = math.sqrt(get_density_distribution(average_z) - frequency_density[i])\n",
    "        deviations.append(deviation)\n",
    "    return sum(deviations)\n",
    "\n",
    "\n",
    "get_measure_of_similarity()"
   ]
  },
  {
   "cell_type": "code",
   "execution_count": 86,
   "metadata": {},
   "outputs": [
    {
     "name": "stderr",
     "output_type": "stream",
     "text": [
      "warning: LF will be replaced by CRLF in .ipynb_checkpoints/main-checkpoint.ipynb.\n",
      "The file will have its original line endings in your working directory\n",
      "warning: LF will be replaced by CRLF in main.ipynb.\n",
      "The file will have its original line endings in your working directory\n"
     ]
    },
    {
     "name": "stdout",
     "output_type": "stream",
     "text": [
      "[main fa99f1c] !\n",
      " 2 files changed, 354 insertions(+), 170 deletions(-)\n"
     ]
    },
    {
     "name": "stderr",
     "output_type": "stream",
     "text": [
      "To https://github.com/russianSlave/queuing_theory_lab1.git\n",
      "   9e4b69c..fa99f1c  main -> main\n"
     ]
    }
   ],
   "source": [
    "! git add * \n",
    "! git commit -m !\n",
    "! git push"
   ]
  },
  {
   "cell_type": "code",
   "execution_count": 59,
   "metadata": {},
   "outputs": [
    {
     "data": {
      "text/plain": [
       "[]"
      ]
     },
     "execution_count": 59,
     "metadata": {},
     "output_type": "execute_result"
    }
   ],
   "source": [
    "\n",
    "import numpy as np\n",
    "\n",
    "a = np.array([ 0.   ,  0.005 , 0.124, 0.  ,   0.004,  0.  ,   0.111  ,0.112])\n",
    "# [ 0.     0.005  0.124  0.     0.004  0.     0.111  0.112]\n",
    "\n",
    "# You can set arbitrary bin edges:\n",
    "bins = [0, 0.150]\n",
    "hist, bin_edges = np.histogram(a, bins=bins)\n",
    "# hist: [8]\n",
    "# bin_edges: [ 0.    0.15]\n",
    "\n",
    "# Or, if bin is an integer, you can set the number of bins:\n",
    "bins = 4\n",
    "hist, bin_edges = np.histogram(a, bins=bins)\n",
    "# hist: [5 0 0 3]\n",
    "# bin_edges: [ 0.     0.031  0.062  0.093  0.124]\n",
    "bin_edges\n",
    "\n",
    "\n",
    "\n",
    "cum = [1,2,3,4,5]\n",
    "cum[0:]"
   ]
  },
  {
   "cell_type": "code",
   "execution_count": 175,
   "metadata": {},
   "outputs": [
    {
     "name": "stdout",
     "output_type": "stream",
     "text": [
      "[0.  0.1 0.2 0.3 0.4 0.5 0.6 0.7 0.8 0.9 8. ]\n"
     ]
    },
    {
     "data": {
      "image/png": "[encoded data removed]",
      "text/plain": [
       "<Figure size 432x288 with 1 Axes>"
      ]
     },
     "metadata": {
      "needs_background": "light"
     },
     "output_type": "display_data"
    }
   ],
   "source": [
    "import matplotlib.pyplot as plt\n",
    "import numpy as np\n",
    "%matplotlib inline\n",
    "x = np.array([0.,  0.1, 0.2,0.3, 0.4 ,0.5 ,0.6,0.7, 0.8 ,0.9,8])\n",
    "print(x)\n",
    "plt.hist(x, normed=False, bins=30)\n",
    "plt.ylabel('Probability');"
   ]
  },
  {
   "cell_type": "code",
   "execution_count": null,
   "metadata": {},
   "outputs": [],
   "source": []
  }
 ],
 "metadata": {
  "kernelspec": {
   "display_name": "Python 3",
   "language": "python",
   "name": "python3"
  },
  "language_info": {
   "codemirror_mode": {
    "name": "ipython",
    "version": 3
   },
   "file_extension": ".py",
   "mimetype": "text/x-python",
   "name": "python",
   "nbconvert_exporter": "python",
   "pygments_lexer": "ipython3",
   "version": "3.7.1"
  }
 },
 "nbformat": 4,
 "nbformat_minor": 2
}
