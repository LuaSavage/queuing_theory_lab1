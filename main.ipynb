{
 "cells": [
  {
   "cell_type": "markdown",
   "metadata": {},
   "source": [
    "### Выполнил: - -\n",
    "Для ввода данных выполните код в нижней ячейке"
   ]
  },
  {
   "cell_type": "code",
   "execution_count": 41,
   "metadata": {},
   "outputs": [
    {
     "name": "stdout",
     "output_type": "stream",
     "text": [
      "Введите номер операции: \n",
      "1. Ввести самостоятельно x0, n, lambda. \n",
      "2. Загрузить из файла.\n",
      "1\n",
      "Введите n: 10\n",
      "Введите lmbd: 0.1\n",
      "Введите x0: 1\n",
      "Сохранить введенные данные?: \n",
      "1. Да \n",
      "2. Нет\n",
      "2\n",
      "Можно переходить к запуску кода из нижней ячейки\n"
     ]
    }
   ],
   "source": [
    "import math\n",
    "import random\n",
    "import scipy.stats as sp\n",
    "import pandas as pd\n",
    "from pathlib import Path\n",
    "import os\n",
    "\n",
    "x0, n, lmbd = None, None, None\n",
    "\n",
    "def load_from_csv():\n",
    "    file_path = Path(os.path.abspath(os.getcwd())+\"/data.csv\")\n",
    "    if file_path.is_file():\n",
    "        return pd.read_csv('data.csv')\n",
    "    return pd.DataFrame(data= {'x0': [], 'n': [], 'lambda': []})\n",
    "\n",
    "def save_data(df):\n",
    "    df.to_csv('data.csv', index=False)\n",
    "    return df\n",
    "\n",
    "def load_data():    \n",
    "    return load_from_csv()\n",
    "\n",
    "def add_data (df):\n",
    "    return df.append({'x0': x0, 'n': n, 'lambda': lmbd}, ignore_index=True)\n",
    "   \n",
    "input_data_frame = load_data()\n",
    "\n",
    "while True:\n",
    "    operation_num = int(input(\"Введите номер операции: \\n1. Ввести самостоятельно x0, n, lambda. \\n2. Загрузить из файла.\\n\"))\n",
    "\n",
    "    if operation_num == 1:\n",
    "        n = int(input(\"Введите n: \" ))\n",
    "        lmbd = float(input(\"Введите lmbd: \"))\n",
    "        x0 = float(input(\"Введите x0: \"))\n",
    "\n",
    "        if int(input(\"Сохранить введенные данные?: \\n1. Да \\n2. Нет\\n\")) == 1:\n",
    "            print(\"Новое состояние хранилища:\\n\")\n",
    "            input_data_frame = save_data(add_data(input_data_frame))\n",
    "            display(input_data_frame)\n",
    "        break\n",
    "\n",
    "    if operation_num == 2:\n",
    "        display(input_data_frame)\n",
    "        row_number = int(input(\"Выберите номер записи или введите -1 для возврата:\\n\"))\n",
    "        if row_number >= 0:\n",
    "            row = input_data_frame.iloc[int(row_number)]\n",
    "            x0, n, lmbd = float(row[\"x0\"]),int(row[\"n\"]),float(row[\"lambda\"])\n",
    "            print(\"Загружено из записи \" +str(row_number)+ \":\\n\")\n",
    "            break\n",
    "\n",
    "print(\"Можно переходить к запуску кода из нижней ячейки\")"
   ]
  },
  {
   "cell_type": "code",
   "execution_count": 42,
   "metadata": {},
   "outputs": [
    {
     "name": "stdout",
     "output_type": "stream",
     "text": [
      "26.769621995551223\n",
      "19.330750396839026\n",
      "0.004837418035959523\n"
     ]
    }
   ],
   "source": [
    "x, y = [], []\n",
    "\n",
    "def get_expected_value_theory():\n",
    "    return 1/lmbd\n",
    "\n",
    "def get_expected_value_practice():\n",
    "    #return (1/n)*sum(y)\n",
    "    return sp.describe(y).mean\n",
    "\n",
    "def get_err (theory, practice):\n",
    "    return (abs(theory-practice)/theory)*100\n",
    "\n",
    "def get_expected_value_err():\n",
    "    return get_err(get_expected_value_theory(), get_expected_value_practice())\n",
    "\n",
    "def get_dispersion_theory():\n",
    "    return 1/(lmbd**2) \n",
    "\n",
    "def get_dispersion_practice():\n",
    "    squared_deviation = []\n",
    "    for yi in y:\n",
    "        squared_deviation.append( abs(yi-get_expected_value_practice()) )    \n",
    "    return sum(squared_deviation)\n",
    "\n",
    "def get_dispersion_err():\n",
    "    return get_err(get_dispersion_theory(), get_dispersion_practice())\n",
    "\n",
    "def get_distribution_theory(x):\n",
    "    return 1-math.exp((-1)*lmbd*x)\n",
    "\n",
    "def get_interval_count_less_x(x):\n",
    "    count = 0\n",
    "    for yi in y:\n",
    "        if (yi < x):\n",
    "            count += 1\n",
    "    return count\n",
    "\n",
    "def get_distribution_practice(x):\n",
    "    return get_interval_count_less_x(x)/n\n",
    "\n",
    "def get_distribution_err(x):\n",
    "    return abs(get_distribution_theory(x)-get_distribution_practice(x))\n",
    "\n",
    "\n",
    "def get_y (x):\n",
    "    return (-1)*(math.log(1-x)/lmbd)\n",
    "\n",
    "\n",
    "for i in range(0,n):\n",
    "    x.append(random.randrange(0, 100, 1)/100)\n",
    "    y.append( get_y(x[-1]) )\n",
    "\n",
    "print(get_expected_value_err())\n",
    "print(get_dispersion_err())\n",
    "print(get_distribution_err(x0))\n"
   ]
  },
  {
   "cell_type": "markdown",
   "metadata": {},
   "source": [
    "### Далее будет гистограма.."
   ]
  },
  {
   "cell_type": "code",
   "execution_count": 68,
   "metadata": {
    "scrolled": true
   },
   "outputs": [
    {
     "data": {
      "text/plain": [
       "(array([9., 1., 0.]),\n",
       " array([ 0.       , 29.3739046, 58.7478092, 88.1217138]),\n",
       " <a list of 3 Patch objects>)"
      ]
     },
     "execution_count": 68,
     "metadata": {},
     "output_type": "execute_result"
    },
    {
     "data": {
      "image/png": "[encoded data removed]",
      "text/plain": [
       "<Figure size 432x288 with 1 Axes>"
      ]
     },
     "metadata": {
      "needs_background": "light"
     },
     "output_type": "display_data"
    }
   ],
   "source": [
    "import numpy as np\n",
    "import matplotlib.pyplot as plt\n",
    "\n",
    "z = []\n",
    "frequency_density = []\n",
    "\n",
    "def get_digits_with_equal_length ():\n",
    "    m = 1.44*math.log(n) + 1    \n",
    "    mean_length = sum(y)/m\n",
    "\n",
    "    z.insert(1,0)\n",
    "    for i in range(1,int(m)):\n",
    "        z.insert(i, z[i-1]+mean_length)           \n",
    "\n",
    "    return z  \n",
    "\n",
    "\n",
    "def get_digit_length (i):\n",
    "\n",
    "    if (i < 0) or (i + 1  >= len(z)):\n",
    "        return False\n",
    "    \n",
    "    y_sorted = y[:]\n",
    "    y_sorted.sort()\n",
    "\n",
    "    interval = pd.Interval(left=z[i], right=z[i+1], closed = \"left\")\n",
    "        \n",
    "    digit_len = 0\n",
    "    \n",
    "    for y_i in range(len(y_sorted)):\n",
    "        summ = sum(y_sorted[0:y_i])        \n",
    "        if sum(y_sorted[0:y_i]) in interval:\n",
    "            digit_len+=1\n",
    "    \n",
    "    return digit_len\n",
    "\n",
    "\n",
    "def get_frequency_density ():\n",
    "    for i in range(len(z)-1):\n",
    "        delta_i = z[i+1]-z[i]\n",
    "        density = get_digit_length(i)/(n*delta_i)\n",
    "        frequency_density.insert(i,float(density))\n",
    "\n",
    "            \n",
    "get_digits_with_equal_length ()\n",
    "get_frequency_density ()\n",
    "\n",
    "\n",
    "y_sorted= y[:]\n",
    "y_sorted.sort()\n",
    "\n",
    "plt.hist(y, bins = z)\n"
   ]
  },
  {
   "cell_type": "code",
   "execution_count": 73,
   "metadata": {},
   "outputs": [
    {
     "data": {
      "text/plain": [
       "8.34544225191076e-05"
      ]
     },
     "execution_count": 73,
     "metadata": {},
     "output_type": "execute_result"
    }
   ],
   "source": [
    "#распр плотности\n",
    "def get_density_distribution(x):\n",
    "    return lmbd*math.exp((-1)*lmbd*x)\n",
    "\n",
    "\n",
    "#похожесть\n",
    "def get_measure_of_similarity(): \n",
    "    deviations = []\n",
    "    \n",
    "    for i in range(len(z)-1):\n",
    "        average_z = (z[i] + z[i+1])/2\n",
    "        deviation = (get_density_distribution(average_z) - frequency_density[i])**2\n",
    "        deviations.append(deviation)\n",
    "    return sum(deviations)\n",
    "\n",
    "\n",
    "get_measure_of_similarity()"
   ]
  },
  {
   "cell_type": "code",
   "execution_count": 28,
   "metadata": {},
   "outputs": [
    {
     "name": "stderr",
     "output_type": "stream",
     "text": [
      "warning: LF will be replaced by CRLF in .ipynb_checkpoints/main-checkpoint.ipynb.\n",
      "The file will have its original line endings in your working directory\n",
      "warning: LF will be replaced by CRLF in main.ipynb.\n",
      "The file will have its original line endings in your working directory\n"
     ]
    },
    {
     "name": "stdout",
     "output_type": "stream",
     "text": [
      "[main 982dffa] !\n",
      " 2 files changed, 810 insertions(+), 833 deletions(-)\n",
      " rewrite .ipynb_checkpoints/main-checkpoint.ipynb (64%)\n",
      " rewrite main.ipynb (64%)\n"
     ]
    },
    {
     "name": "stderr",
     "output_type": "stream",
     "text": [
      "To https://github.com/russianSlave/queuing_theory_lab1.git\n",
      "   a2ea68e..982dffa  main -> main\n"
     ]
    }
   ],
   "source": [
    "! git add * \n",
    "! git commit -m !\n",
    "! git push"
   ]
  },
  {
   "cell_type": "code",
   "execution_count": 71,
   "metadata": {},
   "outputs": [
    {
     "data": {
      "text/plain": [
       "8"
      ]
     },
     "execution_count": 71,
     "metadata": {},
     "output_type": "execute_result"
    }
   ],
   "source": [
    "\n",
    "2**3"
   ]
  },
  {
   "cell_type": "code",
   "execution_count": null,
   "metadata": {},
   "outputs": [],
   "source": []
  },
  {
   "cell_type": "code",
   "execution_count": null,
   "metadata": {},
   "outputs": [],
   "source": []
  }
 ],
 "metadata": {
  "kernelspec": {
   "display_name": "Python 3",
   "language": "python",
   "name": "python3"
  },
  "language_info": {
   "codemirror_mode": {
    "name": "ipython",
    "version": 3
   },
   "file_extension": ".py",
   "mimetype": "text/x-python",
   "name": "python",
   "nbconvert_exporter": "python",
   "pygments_lexer": "ipython3",
   "version": "3.7.1"
  }
 },
 "nbformat": 4,
 "nbformat_minor": 2
}
