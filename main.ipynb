{
 "cells": [
  {
   "cell_type": "code",
   "execution_count": 84,
   "metadata": {},
   "outputs": [
    {
     "name": "stdout",
     "output_type": "stream",
     "text": [
      "0.4213169966275387\n",
      "531.845846213451\n",
      "0.019801326693244747\n"
     ]
    }
   ],
   "source": [
    "import math\n",
    "import random\n",
    "import scipy.stats as sp\n",
    "\n",
    "x0 = 0.2\n",
    "n = 100\n",
    "lmbd = 0.1\n",
    "\n",
    "\n",
    "\n",
    "x, y = [], []\n",
    "\n",
    "\n",
    "def get_expected_value_theory():\n",
    "    return 1/lmbd\n",
    "\n",
    "def get_expected_value_practice():\n",
    "    #return (1/n)*sum(y)\n",
    "    return sp.describe(y).mean\n",
    "\n",
    "def get_err (theory, practice):\n",
    "    return (abs(theory-practice)/theory)*100\n",
    "\n",
    "def get_expected_value_err():\n",
    "    return get_err(get_expected_value_theory(), get_expected_value_practice())\n",
    "\n",
    "def get_dispersion_theory():\n",
    "    return 1/(lmbd**2) \n",
    "\n",
    "def get_dispersion_practice():\n",
    "    squared_deviation = []\n",
    "    for yi in y:\n",
    "        squared_deviation.append( abs(yi-get_expected_value_practice()) )    \n",
    "    return sum(squared_deviation)\n",
    "\n",
    "def get_dispersion_err():\n",
    "    return get_err(get_dispersion_theory(), get_dispersion_practice())\n",
    "\n",
    "def get_distribution_theory(x):\n",
    "    return 1-math.exp((-1)*lmbd*x)\n",
    "\n",
    "def get_interval_count_less_x(x):\n",
    "    count = 0\n",
    "    for yi in y:\n",
    "        if (yi < x):\n",
    "            count += 1\n",
    "    return count\n",
    "\n",
    "def get_distribution_practice(x):\n",
    "    return get_interval_count_less_x(x)/n\n",
    "\n",
    "def get_distribution_err(x):\n",
    "    return abs(get_distribution_theory(x)-get_distribution_practice(x))\n",
    "\n",
    "\n",
    "def get_y (x):\n",
    "    return (-1)*(math.log(1-x)/lmbd)\n",
    "\n",
    "\n",
    "for i in range(0,n):\n",
    "    x.append(random.randrange(0, 100, 1)/100)\n",
    "    y.append( get_y(x[-1]) )\n",
    "\n",
    "print(get_expected_value_err())\n",
    "print(get_dispersion_err())\n",
    "print(get_distribution_err(x0))\n"
   ]
  },
  {
   "cell_type": "code",
   "execution_count": 98,
   "metadata": {},
   "outputs": [
    {
     "name": "stdout",
     "output_type": "stream",
     "text": [
      "7.631445067822852 995.7868300337248\n"
     ]
    },
    {
     "data": {
      "text/plain": [
       "[995.7868300337248,\n",
       " 995.7868300337248,\n",
       " 995.7868300337248,\n",
       " 995.7868300337248,\n",
       " 995.7868300337248,\n",
       " 995.7868300337248,\n",
       " 995.7868300337248,\n",
       " 995.7868300337248,\n",
       " 995.7868300337248,\n",
       " 995.7868300337248,\n",
       " 995.7868300337248,\n",
       " 995.7868300337248,\n",
       " 995.7868300337248,\n",
       " 995.7868300337248,\n",
       " 995.7868300337248,\n",
       " 995.7868300337248,\n",
       " 995.7868300337248,\n",
       " 995.7868300337248,\n",
       " 995.7868300337248,\n",
       " 995.7868300337248,\n",
       " 995.7868300337248,\n",
       " 995.7868300337248,\n",
       " 995.7868300337248,\n",
       " 995.7868300337248,\n",
       " 995.7868300337248,\n",
       " 995.7868300337248,\n",
       " 995.7868300337248,\n",
       " 995.7868300337248,\n",
       " 995.7868300337248,\n",
       " 995.7868300337248,\n",
       " 995.7868300337248,\n",
       " 995.7868300337248,\n",
       " 995.7868300337248,\n",
       " 995.7868300337248,\n",
       " 995.7868300337248,\n",
       " 995.7868300337248,\n",
       " 995.7868300337248,\n",
       " 995.7868300337248,\n",
       " 995.7868300337248,\n",
       " 995.7868300337248,\n",
       " 995.7868300337248,\n",
       " 995.7868300337248,\n",
       " 995.7868300337248,\n",
       " 995.7868300337248,\n",
       " 995.7868300337248,\n",
       " 995.7868300337248,\n",
       " 995.7868300337248,\n",
       " 995.7868300337248,\n",
       " 995.7868300337248,\n",
       " 995.7868300337248,\n",
       " 995.7868300337248,\n",
       " 995.7868300337248,\n",
       " 995.7868300337248,\n",
       " 995.7868300337248,\n",
       " 995.7868300337248,\n",
       " 995.7868300337248,\n",
       " 995.7868300337248,\n",
       " 995.7868300337248,\n",
       " 995.7868300337248,\n",
       " 995.7868300337248,\n",
       " 995.7868300337248,\n",
       " 995.7868300337248,\n",
       " 995.7868300337248,\n",
       " 995.7868300337248,\n",
       " 995.7868300337248,\n",
       " 995.7868300337248,\n",
       " 995.7868300337248,\n",
       " 995.7868300337248,\n",
       " 995.7868300337248,\n",
       " 995.7868300337248,\n",
       " 995.7868300337248,\n",
       " 995.7868300337248,\n",
       " 995.7868300337248,\n",
       " 995.7868300337248,\n",
       " 995.7868300337248,\n",
       " 995.7868300337248,\n",
       " 995.7868300337248,\n",
       " 995.7868300337248,\n",
       " 995.7868300337248,\n",
       " 995.7868300337248,\n",
       " 995.7868300337248,\n",
       " 995.7868300337248,\n",
       " 995.7868300337248,\n",
       " 995.7868300337248,\n",
       " 995.7868300337248,\n",
       " 995.7868300337248,\n",
       " 995.7868300337248,\n",
       " 995.7868300337248,\n",
       " 995.7868300337248,\n",
       " 995.7868300337248,\n",
       " 995.7868300337248,\n",
       " 995.7868300337248,\n",
       " 995.7868300337248,\n",
       " 995.7868300337248,\n",
       " 995.7868300337248,\n",
       " 995.7868300337248,\n",
       " 995.7868300337248,\n",
       " 995.7868300337248,\n",
       " 995.7868300337248,\n",
       " 995.7868300337248]"
      ]
     },
     "execution_count": 98,
     "metadata": {},
     "output_type": "execute_result"
    }
   ],
   "source": [
    "#import numpy as np\n",
    "\n",
    "z = []\n",
    "\n",
    "def get_digits_with_equal_length ():\n",
    "    m = 1.44*math.log(n) + 1    \n",
    "    mean_length = sum(y)/m\n",
    "\n",
    "    for i in range(n):\n",
    "            z.insert(i, mean_length)\n",
    "    return z\n",
    "\n",
    "def get_digit_length (i):\n",
    "    return sum(z[0:i])\n",
    "\n",
    "def get_frequency_density (i):\n",
    "    delta_i = get_digit_length (i+1)-get_digit_length (i)\n",
    "    return get_digit_length(i)-\n",
    "    "
   ]
  },
  {
   "cell_type": "code",
   "execution_count": 102,
   "metadata": {},
   "outputs": [
    {
     "data": {
      "text/plain": [
       "[1]"
      ]
     },
     "execution_count": 102,
     "metadata": {},
     "output_type": "execute_result"
    }
   ],
   "source": [
    "\n",
    "lissy = [1,2,3,4,5,6,7,8]\n",
    "lissy[0:1]\n"
   ]
  },
  {
   "cell_type": "code",
   "execution_count": 85,
   "metadata": {},
   "outputs": [
    {
     "name": "stderr",
     "output_type": "stream",
     "text": [
      "warning: LF will be replaced by CRLF in main.ipynb.\n",
      "The file will have its original line endings in your working directory\n"
     ]
    },
    {
     "name": "stdout",
     "output_type": "stream",
     "text": [
      "[main 9e3c3c8] !\n",
      " 1 file changed, 31 insertions(+), 13 deletions(-)\n"
     ]
    },
    {
     "name": "stderr",
     "output_type": "stream",
     "text": [
      "To https://github.com/russianSlave/queuing_theory_lab1.git\n",
      "   83145c8..9e3c3c8  main -> main\n"
     ]
    }
   ],
   "source": [
    "! git add * \n",
    "! git commit -m !\n",
    "! git push"
   ]
  },
  {
   "cell_type": "code",
   "execution_count": null,
   "metadata": {},
   "outputs": [],
   "source": []
  }
 ],
 "metadata": {
  "kernelspec": {
   "display_name": "Python 3",
   "language": "python",
   "name": "python3"
  },
  "language_info": {
   "codemirror_mode": {
    "name": "ipython",
    "version": 3
   },
   "file_extension": ".py",
   "mimetype": "text/x-python",
   "name": "python",
   "nbconvert_exporter": "python",
   "pygments_lexer": "ipython3",
   "version": "3.7.1"
  }
 },
 "nbformat": 4,
 "nbformat_minor": 2
}
