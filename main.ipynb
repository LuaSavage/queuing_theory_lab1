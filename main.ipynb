{
 "cells": [
  {
   "cell_type": "markdown",
   "metadata": {},
   "source": [
    "### Выполнил: - -\n",
    "Для ввода данных выполните код в нижней ячейке"
   ]
  },
  {
   "cell_type": "code",
   "execution_count": 57,
   "metadata": {},
   "outputs": [
    {
     "name": "stdout",
     "output_type": "stream",
     "text": [
      "Введите номер операции: \n",
      "1. Ввести самостоятельно x0, n, lambda. \n",
      "2. Загрузить из файла.\n",
      "1\n",
      "Введите n: 100\n",
      "Введите lmbd: 0.1\n",
      "Введите x0: 1\n",
      "Сохранить введенные данные?: \n",
      "1. Да \n",
      "2. Нет\n",
      "1\n",
      "Новое состояние хранилища:\n",
      "\n"
     ]
    },
    {
     "data": {
      "text/html": [
       "<div>\n",
       "<style scoped>\n",
       "    .dataframe tbody tr th:only-of-type {\n",
       "        vertical-align: middle;\n",
       "    }\n",
       "\n",
       "    .dataframe tbody tr th {\n",
       "        vertical-align: top;\n",
       "    }\n",
       "\n",
       "    .dataframe thead th {\n",
       "        text-align: right;\n",
       "    }\n",
       "</style>\n",
       "<table border=\"1\" class=\"dataframe\">\n",
       "  <thead>\n",
       "    <tr style=\"text-align: right;\">\n",
       "      <th></th>\n",
       "      <th>x0</th>\n",
       "      <th>n</th>\n",
       "      <th>lambda</th>\n",
       "    </tr>\n",
       "  </thead>\n",
       "  <tbody>\n",
       "    <tr>\n",
       "      <th>0</th>\n",
       "      <td>1.0</td>\n",
       "      <td>1.0</td>\n",
       "      <td>1.0</td>\n",
       "    </tr>\n",
       "    <tr>\n",
       "      <th>1</th>\n",
       "      <td>1.0</td>\n",
       "      <td>100.0</td>\n",
       "      <td>0.1</td>\n",
       "    </tr>\n",
       "  </tbody>\n",
       "</table>\n",
       "</div>"
      ],
      "text/plain": [
       "    x0      n  lambda\n",
       "0  1.0    1.0     1.0\n",
       "1  1.0  100.0     0.1"
      ]
     },
     "metadata": {},
     "output_type": "display_data"
    },
    {
     "name": "stdout",
     "output_type": "stream",
     "text": [
      "Можно переходить к запуску кода из нижней ячейки\n"
     ]
    }
   ],
   "source": [
    "import math\n",
    "import random\n",
    "import scipy.stats as sp\n",
    "import pandas as pd\n",
    "from pathlib import Path\n",
    "import os\n",
    "\n",
    "x0, n, lmbd = None, None, None\n",
    "\n",
    "def load_from_csv():\n",
    "    file_path = Path(os.path.abspath(os.getcwd())+\"/data.csv\")\n",
    "    if file_path.is_file():\n",
    "        return pd.read_csv('data.csv')\n",
    "    return pd.DataFrame(data= {'x0': [], 'n': [], 'lambda': []})\n",
    "\n",
    "def save_data(df):\n",
    "    df.to_csv('data.csv', index=False)\n",
    "    return df\n",
    "\n",
    "def load_data():    \n",
    "    return load_from_csv()\n",
    "\n",
    "def add_data (df):\n",
    "    return df.append({'x0': x0, 'n': n, 'lambda': lmbd}, ignore_index=True)\n",
    "   \n",
    "input_data_frame = load_data()\n",
    "\n",
    "while True:\n",
    "    operation_num = int(input(\"Введите номер операции: \\n1. Ввести самостоятельно x0, n, lambda. \\n2. Загрузить из файла.\\n\"))\n",
    "\n",
    "    if operation_num == 1:\n",
    "        n = int(input(\"Введите n: \" ))\n",
    "        lmbd = float(input(\"Введите lmbd: \"))\n",
    "        x0 = float(input(\"Введите x0: \"))\n",
    "\n",
    "        if int(input(\"Сохранить введенные данные?: \\n1. Да \\n2. Нет\\n\")) == 1:\n",
    "            print(\"Новое состояние хранилища:\\n\")\n",
    "            input_data_frame = save_data(add_data(input_data_frame))\n",
    "            display(input_data_frame)\n",
    "        break\n",
    "\n",
    "    if operation_num == 2:\n",
    "        display(input_data_frame)\n",
    "        row_number = int(input(\"Выберите номер записи или введите -1 для возврата:\\n\"))\n",
    "        if row_number >= 0:\n",
    "            row = input_data_frame.iloc[int(row_number)]\n",
    "            x0, n, lmbd = float(row[\"x0\"]),int(row[\"n\"]),float(row[\"lambda\"])\n",
    "            print(\"Загружено из записи \" +str(row_number)+ \":\\n\")\n",
    "            break\n",
    "\n",
    "print(\"Можно переходить к запуску кода из нижней ячейки\")"
   ]
  },
  {
   "cell_type": "code",
   "execution_count": 58,
   "metadata": {},
   "outputs": [
    {
     "name": "stdout",
     "output_type": "stream",
     "text": [
      "4.773131853121626\n",
      "588.1562465883138\n",
      "0.005162581964040486\n"
     ]
    }
   ],
   "source": [
    "x, y = [], []\n",
    "\n",
    "def get_expected_value_theory():\n",
    "    return 1/lmbd\n",
    "\n",
    "def get_expected_value_practice():\n",
    "    #return (1/n)*sum(y)\n",
    "    return sp.describe(y).mean\n",
    "\n",
    "def get_err (theory, practice):\n",
    "    return (abs(theory-practice)/theory)*100\n",
    "\n",
    "def get_expected_value_err():\n",
    "    return get_err(get_expected_value_theory(), get_expected_value_practice())\n",
    "\n",
    "def get_dispersion_theory():\n",
    "    return 1/(lmbd**2) \n",
    "\n",
    "def get_dispersion_practice():\n",
    "    squared_deviation = []\n",
    "    for yi in y:\n",
    "        squared_deviation.append( abs(yi-get_expected_value_practice()) )    \n",
    "    return sum(squared_deviation)\n",
    "\n",
    "def get_dispersion_err():\n",
    "    return get_err(get_dispersion_theory(), get_dispersion_practice())\n",
    "\n",
    "def get_distribution_theory(x):\n",
    "    return 1-math.exp((-1)*lmbd*x)\n",
    "\n",
    "def get_interval_count_less_x(x):\n",
    "    count = 0\n",
    "    for yi in y:\n",
    "        if (yi < x):\n",
    "            count += 1\n",
    "    return count\n",
    "\n",
    "def get_distribution_practice(x):\n",
    "    return get_interval_count_less_x(x)/n\n",
    "\n",
    "def get_distribution_err(x):\n",
    "    return abs(get_distribution_theory(x)-get_distribution_practice(x))\n",
    "\n",
    "\n",
    "def get_y (x):\n",
    "    return (-1)*(math.log(1-x)/lmbd)\n",
    "\n",
    "\n",
    "for i in range(0,n):\n",
    "    x.append(random.randrange(0, 100, 1)/100)\n",
    "    y.append( get_y(x[-1]) )\n",
    "\n",
    "print(get_expected_value_err())\n",
    "print(get_dispersion_err())\n",
    "print(get_distribution_err(x0))\n"
   ]
  },
  {
   "cell_type": "markdown",
   "metadata": {},
   "source": [
    "### Далее будет гистограма.."
   ]
  },
  {
   "cell_type": "code",
   "execution_count": 60,
   "metadata": {
    "scrolled": true
   },
   "outputs": [
    {
     "name": "stdout",
     "output_type": "stream",
     "text": [
      "6 6\n"
     ]
    },
    {
     "data": {
      "text/plain": [
       "<matplotlib.axes._subplots.AxesSubplot at 0xdb740f0>"
      ]
     },
     "execution_count": 60,
     "metadata": {},
     "output_type": "execute_result"
    },
    {
     "data": {
      "image/png": "[encoded data removed]",
      "text/plain": [
       "<Figure size 432x288 with 1 Axes>"
      ]
     },
     "metadata": {
      "needs_background": "light"
     },
     "output_type": "display_data"
    }
   ],
   "source": [
    "import numpy as np\n",
    "import matplotlib.pyplot as plt\n",
    "\n",
    "\n",
    "z = []\n",
    "frequency_density = []\n",
    "\n",
    "def get_digits_with_equal_length ():\n",
    "    m = 1.44*math.log(n) + 1    \n",
    "    mean_length = sum(y)/m\n",
    "\n",
    "    z.insert(1,0)\n",
    "    for i in range(1,int(m)):\n",
    "        z.insert(i, z[i-1]+mean_length)           \n",
    "\n",
    "    return z  \n",
    "\n",
    "\n",
    "def get_digit_length (i):\n",
    "\n",
    "    if (i < 0) or (i + 1  >= len(z)):\n",
    "        return False\n",
    "    \n",
    "    y_sorted = y[:]\n",
    "    y_sorted.sort()\n",
    "\n",
    "    interval = pd.Interval(left=z[i], right=z[i+1], closed = \"left\")\n",
    "        \n",
    "    digit_len = 0\n",
    "    \n",
    "    for y_i in range(len(y_sorted)):\n",
    "        summ = sum(y_sorted[0:y_i])        \n",
    "        if sum(y_sorted[0:y_i]) in interval:\n",
    "            digit_len+=1\n",
    "    \n",
    "    return digit_len\n",
    "\n",
    "\n",
    "def get_frequency_density ():\n",
    "    for i in range(len(z)-1):\n",
    "        delta_i = z[i+1]-z[i]\n",
    "        density = get_digit_length(i)/(n*delta_i)\n",
    "        frequency_density.insert(i,float(density))\n",
    "\n",
    "            \n",
    "get_digits_with_equal_length ()\n",
    "get_frequency_density ()\n",
    "\n",
    "\n",
    "y_sorted= y[:]\n",
    "y_sorted.sort()\n",
    "\n",
    "import seaborn \n",
    "\n",
    "new_z = z[1:]\n",
    "\n",
    "print(len(new_z),len(frequency_density))\n",
    "\n",
    "\n",
    "seaborn.histplot(x = new_z, y = frequency_density)\n",
    "\n",
    "#seaborn.barplot(x = new_z, y = frequency_density)\n"
   ]
  },
  {
   "cell_type": "code",
   "execution_count": 3,
   "metadata": {},
   "outputs": [
    {
     "ename": "NameError",
     "evalue": "name 'z' is not defined",
     "output_type": "error",
     "traceback": [
      "\u001b[1;31m---------------------------------------------------------------------------\u001b[0m",
      "\u001b[1;31mNameError\u001b[0m                                 Traceback (most recent call last)",
      "\u001b[1;32m<ipython-input-3-409ec9ce158e>\u001b[0m in \u001b[0;36m<module>\u001b[1;34m\u001b[0m\n\u001b[0;32m     15\u001b[0m \u001b[1;33m\u001b[0m\u001b[0m\n\u001b[0;32m     16\u001b[0m \u001b[1;33m\u001b[0m\u001b[0m\n\u001b[1;32m---> 17\u001b[1;33m \u001b[0mget_measure_of_similarity\u001b[0m\u001b[1;33m(\u001b[0m\u001b[1;33m)\u001b[0m\u001b[1;33m\u001b[0m\u001b[1;33m\u001b[0m\u001b[0m\n\u001b[0m",
      "\u001b[1;32m<ipython-input-3-409ec9ce158e>\u001b[0m in \u001b[0;36mget_measure_of_similarity\u001b[1;34m()\u001b[0m\n\u001b[0;32m      8\u001b[0m     \u001b[0mdeviations\u001b[0m \u001b[1;33m=\u001b[0m \u001b[1;33m[\u001b[0m\u001b[1;33m]\u001b[0m\u001b[1;33m\u001b[0m\u001b[1;33m\u001b[0m\u001b[0m\n\u001b[0;32m      9\u001b[0m \u001b[1;33m\u001b[0m\u001b[0m\n\u001b[1;32m---> 10\u001b[1;33m     \u001b[1;32mfor\u001b[0m \u001b[0mi\u001b[0m \u001b[1;32min\u001b[0m \u001b[0mrange\u001b[0m\u001b[1;33m(\u001b[0m\u001b[0mlen\u001b[0m\u001b[1;33m(\u001b[0m\u001b[0mz\u001b[0m\u001b[1;33m)\u001b[0m\u001b[1;33m-\u001b[0m\u001b[1;36m1\u001b[0m\u001b[1;33m)\u001b[0m\u001b[1;33m:\u001b[0m\u001b[1;33m\u001b[0m\u001b[1;33m\u001b[0m\u001b[0m\n\u001b[0m\u001b[0;32m     11\u001b[0m         \u001b[0maverage_z\u001b[0m \u001b[1;33m=\u001b[0m \u001b[1;33m(\u001b[0m\u001b[0mz\u001b[0m\u001b[1;33m[\u001b[0m\u001b[0mi\u001b[0m\u001b[1;33m]\u001b[0m \u001b[1;33m+\u001b[0m \u001b[0mz\u001b[0m\u001b[1;33m[\u001b[0m\u001b[0mi\u001b[0m\u001b[1;33m+\u001b[0m\u001b[1;36m1\u001b[0m\u001b[1;33m]\u001b[0m\u001b[1;33m)\u001b[0m\u001b[1;33m/\u001b[0m\u001b[1;36m2\u001b[0m\u001b[1;33m\u001b[0m\u001b[1;33m\u001b[0m\u001b[0m\n\u001b[0;32m     12\u001b[0m         \u001b[0mdeviation\u001b[0m \u001b[1;33m=\u001b[0m \u001b[1;33m(\u001b[0m\u001b[0mget_density_distribution\u001b[0m\u001b[1;33m(\u001b[0m\u001b[0maverage_z\u001b[0m\u001b[1;33m)\u001b[0m \u001b[1;33m-\u001b[0m \u001b[0mfrequency_density\u001b[0m\u001b[1;33m[\u001b[0m\u001b[0mi\u001b[0m\u001b[1;33m]\u001b[0m\u001b[1;33m)\u001b[0m\u001b[1;33m**\u001b[0m\u001b[1;36m2\u001b[0m\u001b[1;33m\u001b[0m\u001b[1;33m\u001b[0m\u001b[0m\n",
      "\u001b[1;31mNameError\u001b[0m: name 'z' is not defined"
     ]
    }
   ],
   "source": [
    "#распр плотности\n",
    "def get_density_distribution(x):\n",
    "    return lmbd*math.exp((-1)*lmbd*x)\n",
    "\n",
    "\n",
    "#похожесть\n",
    "def get_measure_of_similarity(): \n",
    "    deviations = []\n",
    "    \n",
    "    for i in range(len(z)-1):\n",
    "        average_z = (z[i] + z[i+1])/2\n",
    "        deviation = (get_density_distribution(average_z) - frequency_density[i])**2\n",
    "        deviations.append(deviation)\n",
    "    return sum(deviations)\n",
    "\n",
    "\n",
    "get_measure_of_similarity()"
   ]
  },
  {
   "cell_type": "code",
   "execution_count": 74,
   "metadata": {},
   "outputs": [
    {
     "name": "stderr",
     "output_type": "stream",
     "text": [
      "warning: LF will be replaced by CRLF in .ipynb_checkpoints/main-checkpoint.ipynb.\n",
      "The file will have its original line endings in your working directory\n",
      "warning: LF will be replaced by CRLF in main.ipynb.\n",
      "The file will have its original line endings in your working directory\n"
     ]
    },
    {
     "name": "stdout",
     "output_type": "stream",
     "text": [
      "[main 7bc7515] !\n",
      " 2 files changed, 199 insertions(+), 205 deletions(-)\n"
     ]
    },
    {
     "name": "stderr",
     "output_type": "stream",
     "text": [
      "To https://github.com/russianSlave/queuing_theory_lab1.git\n",
      "   9ee804d..7bc7515  main -> main\n"
     ]
    }
   ],
   "source": [
    "! git add * \n",
    "! git commit -m !\n",
    "! git push"
   ]
  },
  {
   "cell_type": "code",
   "execution_count": 71,
   "metadata": {},
   "outputs": [
    {
     "data": {
      "text/plain": [
       "8"
      ]
     },
     "execution_count": 71,
     "metadata": {},
     "output_type": "execute_result"
    }
   ],
   "source": [
    "\n",
    "2**3"
   ]
  },
  {
   "cell_type": "code",
   "execution_count": 80,
   "metadata": {},
   "outputs": [
    {
     "name": "stdout",
     "output_type": "stream",
     "text": [
      "Collecting seaborn\n",
      "  Downloading https://files.pythonhosted.org/packages/10/5b/0479d7d845b5ba410ca702ffcd7f2cd95a14a4dfff1fde2637802b258b9b/seaborn-0.11.2-py3-none-any.whl (292kB)\n",
      "Requirement already satisfied, skipping upgrade: scipy>=1.0 in c:\\users\\maksim\\anaconda3\\lib\\site-packages (from seaborn) (1.1.0)\n",
      "Requirement already satisfied, skipping upgrade: numpy>=1.15 in c:\\users\\maksim\\anaconda3\\lib\\site-packages (from seaborn) (1.15.4)\n",
      "Requirement already satisfied, skipping upgrade: matplotlib>=2.2 in c:\\users\\maksim\\anaconda3\\lib\\site-packages (from seaborn) (3.0.2)\n",
      "Requirement already satisfied, skipping upgrade: pandas>=0.23 in c:\\users\\maksim\\anaconda3\\lib\\site-packages (from seaborn) (0.23.4)\n",
      "Requirement already satisfied, skipping upgrade: cycler>=0.10 in c:\\users\\maksim\\anaconda3\\lib\\site-packages (from matplotlib>=2.2->seaborn) (0.10.0)\n",
      "Requirement already satisfied, skipping upgrade: kiwisolver>=1.0.1 in c:\\users\\maksim\\anaconda3\\lib\\site-packages (from matplotlib>=2.2->seaborn) (1.0.1)\n",
      "Requirement already satisfied, skipping upgrade: pyparsing!=2.0.4,!=2.1.2,!=2.1.6,>=2.0.1 in c:\\users\\maksim\\anaconda3\\lib\\site-packages (from matplotlib>=2.2->seaborn) (2.3.0)\n",
      "Requirement already satisfied, skipping upgrade: python-dateutil>=2.1 in c:\\users\\maksim\\anaconda3\\lib\\site-packages (from matplotlib>=2.2->seaborn) (2.7.5)\n",
      "Requirement already satisfied, skipping upgrade: pytz>=2011k in c:\\users\\maksim\\anaconda3\\lib\\site-packages (from pandas>=0.23->seaborn) (2018.7)\n",
      "Requirement already satisfied, skipping upgrade: six in c:\\users\\maksim\\anaconda3\\lib\\site-packages (from cycler>=0.10->matplotlib>=2.2->seaborn) (1.12.0)\n",
      "Requirement already satisfied, skipping upgrade: setuptools in c:\\users\\maksim\\anaconda3\\lib\\site-packages (from kiwisolver>=1.0.1->matplotlib>=2.2->seaborn) (40.6.3)\n",
      "Installing collected packages: seaborn\n",
      "  Found existing installation: seaborn 0.9.0\n",
      "    Uninstalling seaborn-0.9.0:\n",
      "      Successfully uninstalled seaborn-0.9.0\n",
      "Successfully installed seaborn-0.11.2\n"
     ]
    }
   ],
   "source": [
    "!pip install -U seaborn"
   ]
  },
  {
   "cell_type": "code",
   "execution_count": null,
   "metadata": {},
   "outputs": [],
   "source": []
  }
 ],
 "metadata": {
  "kernelspec": {
   "display_name": "Python 3",
   "language": "python",
   "name": "python3"
  },
  "language_info": {
   "codemirror_mode": {
    "name": "ipython",
    "version": 3
   },
   "file_extension": ".py",
   "mimetype": "text/x-python",
   "name": "python",
   "nbconvert_exporter": "python",
   "pygments_lexer": "ipython3",
   "version": "3.7.1"
  }
 },
 "nbformat": 4,
 "nbformat_minor": 2
}
