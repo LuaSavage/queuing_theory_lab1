{
 "cells": [
  {
   "cell_type": "markdown",
   "metadata": {},
   "source": [
    "### Выполнил: - -\n",
    "Для ввода данных выполните код в нижней ячейке"
   ]
  },
  {
   "cell_type": "code",
   "execution_count": 1,
   "metadata": {},
   "outputs": [],
   "source": [
    "class TextMenuItem(object):\n",
    "    description = \"Описание по умолчанию\"\n",
    "    sub_menu = None\n",
    "    todo = []\n",
    "    \n",
    "    def __init__(self, description=None, sub_menu=None, todo=None):\n",
    "        self.description = str(description) or self.description\n",
    "        self.sub_menu = sub_menu\n",
    "        if todo:\n",
    "            self.todo = list(todo)\n",
    "        \n",
    "    def on_click(self):\n",
    "        if self.todo:\n",
    "            self.todo[0](*self.todo[1])\n",
    "        if self.sub_menu:\n",
    "            return self.sub_menu.display()\n",
    "            \n",
    "\n",
    "class TextMenu(object):\n",
    "    description = \"Описание по умолчанию\"\n",
    "    items = []\n",
    "    \n",
    "    def __init__(self, description=None, items=None, default_exit=None):\n",
    "        self.description = str(description) or self.description\n",
    "        self.items = list(items)\n",
    "        if default_exit:\n",
    "            self.items.append(TextMenuItem(description=\"Выход\"))\n",
    "        \n",
    "    def display(self):\n",
    "        print(\"Menu.\")\n",
    "        print(self.description)\n",
    "        for item in self.items:\n",
    "            item_id = self.items.index(item)        \n",
    "            print(item_id,\". \",item.description,\"\")         \n",
    "        \n",
    "        while True:\n",
    "            operation_id = int(input(\"Введите номер операции: \"))\n",
    "            if operation_id in range(len(self.items)):\n",
    "                self.items[operation_id].on_click()\n",
    "                return True\n",
    "            else:\n",
    "                print(\"Неверный номер операции \")\n",
    "        "
   ]
  },
  {
   "cell_type": "code",
   "execution_count": 2,
   "metadata": {},
   "outputs": [
    {
     "name": "stdout",
     "output_type": "stream",
     "text": [
      "Menu.\n",
      "Выберите способ ввода параметров\n",
      "0 .  Ввести самостоятельно x0, n, lambda. \n",
      "1 .  Загрузить из файла. \n",
      "2 .  Выход \n",
      "Введите номер операции: 0\n",
      "Введите n: 10000\n",
      "Введите lmbd: 2\n",
      "Введите x0: 1\n",
      "Menu.\n",
      "Сохранить введенные данные?\n",
      "0 .  Да \n",
      "1 .  Нет \n",
      "Введите номер операции: 1\n"
     ]
    },
    {
     "data": {
      "text/plain": [
       "True"
      ]
     },
     "execution_count": 2,
     "metadata": {},
     "output_type": "execute_result"
    }
   ],
   "source": [
    "import math\n",
    "import random\n",
    "import scipy.stats as sp\n",
    "import pandas as pd\n",
    "from pathlib import Path\n",
    "import os\n",
    "\n",
    "global n, x0, lmbd\n",
    "\n",
    "def load_from_csv():\n",
    "    file_path = Path(os.path.abspath(os.getcwd())+\"/data.csv\")\n",
    "    if file_path.is_file():\n",
    "        return pd.read_csv('data.csv')\n",
    "    return pd.DataFrame(data= {'x0': [], 'n': [], 'lambda': []})\n",
    "\n",
    "def save_data(df):\n",
    "    df.to_csv('data.csv', index=False)\n",
    "    return df\n",
    "\n",
    "def visualise_data():\n",
    "    global input_data_frame\n",
    "    display(input_data_frame)\n",
    "\n",
    "def add_data (df):\n",
    "    return df.append({'x0': x0, 'n': n, 'lambda': lmbd}, ignore_index=True)\n",
    "   \n",
    "input_data_frame = load_from_csv()\n",
    "\n",
    "def save_inputed_data ():\n",
    "    print(\"Новое состояние хранилища:\\n\")\n",
    "    global input_data_frame\n",
    "    input_data_frame = save_data(add_data(input_data_frame))\n",
    "    visualise_data()\n",
    "    \n",
    "save_data_menu = TextMenu(description=\"Сохранить введенные данные?\",items = [\n",
    "TextMenuItem(description=\"Да\", todo=[save_inputed_data,[]]),\n",
    "TextMenuItem(description=\"Нет\"),\n",
    "])\n",
    "    \n",
    "def input_data_manually ():\n",
    "    global n, x0, lmbd\n",
    "    n = int(input(\"Введите n: \" ))\n",
    "    lmbd = float(input(\"Введите lmbd: \"))\n",
    "    x0 = float(input(\"Введите x0: \"))\n",
    "    save_data_menu.display()\n",
    "\n",
    "def enter_row_number():\n",
    "    global n, x0, lmbd\n",
    "    row_number = int(input(\"Введите номер записи\\n\"))\n",
    "    row = input_data_frame.iloc[int(row_number)]\n",
    "    x0, n, lmbd = float(row[\"x0\"]), int(row[\"n\"]), float(row[\"lambda\"])\n",
    "    print(\"Загружено из записи \" +str(row_number)+ \":\\n\")\n",
    "\n",
    "load_row_menu = TextMenu(description=\"Выберите действие\",items=[\n",
    "TextMenuItem(description=\"Ввести номер записи\", todo=[enter_row_number,[]]),\n",
    "TextMenuItem(description=\"Назад\"),\n",
    "])\n",
    "\n",
    "main_menu = TextMenu(description=\"Выберите способ ввода параметров\",items = [\n",
    "TextMenuItem(description=\"Ввести самостоятельно x0, n, lambda.\", todo=[input_data_manually,[]]),\n",
    "TextMenuItem(description=\"Загрузить из файла.\", sub_menu = load_row_menu, todo=[visualise_data,[]],),\n",
    "], default_exit=True)\n",
    "\n",
    "load_row_menu.items[1].sub_menu = main_menu\n",
    "main_menu.display()"
   ]
  },
  {
   "cell_type": "code",
   "execution_count": 3,
   "metadata": {},
   "outputs": [
    {
     "name": "stdout",
     "output_type": "stream",
     "text": [
      "Мат ожидание \n",
      " Теория: 0.5 ; практика: 0.49947548149060006 ; отклонение: 0.1049037018799881 %\n",
      "Дисперсия \n",
      " Теория: 0.25 ; практика: 0.242977412802434 ; отклонение: 2.8090348790263953 %\n",
      "Функция распределения \n",
      " Теория: 0.8646647167633873 ; практика: 0.8711 ; отклонение: 0.006435283236612688\n"
     ]
    }
   ],
   "source": [
    "global x, y\n",
    "x, y = [], []\n",
    "\n",
    "def get_expected_value_theory():\n",
    "    return 1/lmbd\n",
    "\n",
    "def get_expected_value_practice():\n",
    "    #return (1/n)*sum(y)\n",
    "    return sp.describe(y).mean\n",
    "\n",
    "def get_err (theory, practice):\n",
    "    return (abs(theory-practice)/theory)*100\n",
    "\n",
    "def get_expected_value_err():\n",
    "    return get_err(get_expected_value_theory(), get_expected_value_practice())\n",
    "\n",
    "def get_dispersion_theory():\n",
    "    return 1/(lmbd**2) \n",
    "\n",
    "def get_dispersion_practice():\n",
    "    squared_deviation = []\n",
    "    for yi in y:\n",
    "        #squared_deviation.append( abs(yi-get_expected_value_practice()) )\n",
    "        squared_deviation.append( (yi-get_expected_value_practice())**2 )    \n",
    "    return sum(squared_deviation)*(1/n)\n",
    "\n",
    "def get_dispersion_err():\n",
    "    return get_err(get_dispersion_theory(), get_dispersion_practice())\n",
    "\n",
    "def get_distribution_theory(x):\n",
    "    return 1-math.exp((-1)*lmbd*x) if x>0 else 0\n",
    "\n",
    "def get_interval_count_less_x(x):\n",
    "    count = 0\n",
    "    for yi in y:\n",
    "        if (yi < x):\n",
    "            count += 1\n",
    "    return count\n",
    "\n",
    "def get_distribution_practice(x):\n",
    "    return get_interval_count_less_x(x)/n\n",
    "\n",
    "def get_distribution_err(x):\n",
    "    return abs(get_distribution_theory(x)-get_distribution_practice(x))\n",
    "\n",
    "\n",
    "def get_y (x):\n",
    "    return (-1)*(math.log(1-x)/lmbd)\n",
    "\n",
    "\n",
    "for i in range(0,n):\n",
    "    rnd_value = random.uniform(0, 1)\n",
    "    x.append(rnd_value)\n",
    "    y.append( get_y(rnd_value) )\n",
    "    \n",
    "print(\"Мат ожидание \\n Теория:\",get_expected_value_theory(),\"; практика:\",get_expected_value_practice(),\"; отклонение:\",get_expected_value_err(),\"%\")\n",
    "print(\"Дисперсия \\n Теория:\",get_dispersion_theory(),\"; практика:\",get_dispersion_practice(),\"; отклонение:\",get_dispersion_err(),\"%\")\n",
    "print(\"Функция распределения \\n Теория:\",get_distribution_theory(x0),\"; практика:\",get_distribution_practice(x0),\"; отклонение:\",get_distribution_err(x0))"
   ]
  },
  {
   "cell_type": "markdown",
   "metadata": {},
   "source": [
    "### Гистограмма\n"
   ]
  },
  {
   "cell_type": "code",
   "execution_count": 4,
   "metadata": {},
   "outputs": [],
   "source": [
    "#распр плотности\n",
    "def get_density_distribution(x):\n",
    "    return lmbd*math.exp((-1)*lmbd*x)"
   ]
  },
  {
   "cell_type": "code",
   "execution_count": 31,
   "metadata": {
    "scrolled": false
   },
   "outputs": [],
   "source": [
    "import numpy as np\n",
    "import matplotlib.pyplot as plt\n",
    "import seaborn as sns\n",
    "\n",
    "global z\n",
    "global frequency_density\n",
    "z = []\n",
    "frequency_density = []\n",
    "\n",
    "def get_sturges_digit_count ():\n",
    "    m = 1.44*math.log(n) + 1\n",
    "    m = int(m)\n",
    "    return m\n",
    "\n",
    "def get_sturges_digit_length():\n",
    "    m = get_sturges_digit_count ()\n",
    "    mean_length = max(y)/m\n",
    "\n",
    "    return mean_length\n",
    "\n",
    "def get_digits_by_count (y, z, count):\n",
    "    z = np.histogram(y, density=\"true\", bins = count, range=(0,max(y)))\n",
    "    return list(z[1])  \n",
    "\n",
    "def get_digits_with_equal_length (y, z, length):    \n",
    "    m = int(max(y)/length)\n",
    "    return get_digits_by_count (y, z, m)\n",
    "\n",
    "def get_digit_length (y,z,i):    \n",
    "    y_sorted = y[:]\n",
    "    y_sorted.sort()\n",
    "    np_hist = np.histogram(y_sorted, bins = z)\n",
    "    return np_hist[0][i]\n",
    "\n",
    "def get_frequency_density ():\n",
    "    for i in range(len(z)-1):\n",
    "        delta_i = z[i+1]-z[i]\n",
    "        density = get_digit_length(y,z,i)/(n*delta_i)\n",
    "        frequency_density.insert(i,float(density))"
   ]
  },
  {
   "cell_type": "code",
   "execution_count": 32,
   "metadata": {
    "scrolled": false
   },
   "outputs": [
    {
     "name": "stdout",
     "output_type": "stream",
     "text": [
      "Menu.\n",
      "Выберите способ определения разрядов гистограммы\n",
      "0 .  Все разряды одинаковой длины. Их количество определяется формулой Стёрджеса \n",
      "1 .  Разряды выбираются таким образом, чтобы в них состояло примерно одинаковое число значений \n",
      "2 .  Сначала по формуле формулой Стёрджеса, затем разделить наиболее крупные разряды и слить их фракции с менее крупными. \n",
      "3 .  Ввод вручную \n",
      "Введите номер операции: 2\n"
     ]
    },
    {
     "data": {
      "text/plain": [
       "True"
      ]
     },
     "execution_count": 32,
     "metadata": {},
     "output_type": "execute_result"
    }
   ],
   "source": [
    "import scipy\n",
    "\n",
    "def set_sturges_digits():\n",
    "    global z\n",
    "    z = get_digits_by_count (y, z, get_sturges_digit_count())\n",
    "\n",
    "def set_digits_with_equal_height():\n",
    "    global z\n",
    "    z = get_digits_by_count (y, z, get_sturges_digit_count())\n",
    "    \n",
    "    y_sorted = y[:]\n",
    "    y_sorted.sort()\n",
    "    np_hist = np.histogram(y_sorted, bins = get_sturges_digit_count(), range=(0,max(y)))\n",
    "    \n",
    "    height = list(np_hist[0])\n",
    "    height_median = scipy.median(height)\n",
    "    \n",
    "    h_i = 0\n",
    "    z_i = 1\n",
    "    #print(\"height_median\",height_median,\"len h \",len(height),\"len z\",len(z))\n",
    "    #print(height)\n",
    "    #print(z)\n",
    "    while h_i <len(height):\n",
    "        if height[h_i]>height_median:\n",
    "            half = (z[z_i]-z[z_i-1])/2\n",
    "            z.insert(z_i,z[z_i]-half)\n",
    "            z_i+=2\n",
    "            #print(\"h_i\",h_i)\n",
    "        elif height[h_i]<height_median:\n",
    "            #print(\"z_i\",h_i)\n",
    "            if z_i <(len(z)-1):\n",
    "                z.pop(z_i)\n",
    "        else:\n",
    "            z_i+=1\n",
    "        h_i+=1\n",
    "    #print(z)\n",
    "    #print(len(z))\n",
    "    \n",
    "def set_digits_with_approximately_equal_height():\n",
    "    global z\n",
    "    z = [0]\n",
    "    m = int(input(\"Введите количество разрядов: \" ))\n",
    "    y_sorted = (y[:])\n",
    "    y_sorted.sort()\n",
    "    \n",
    "    mean_height = int(len(y)/m)\n",
    "    \n",
    "    for y_i in y_sorted:\n",
    "        i = y_sorted.index(y_i)\n",
    "        if (i+1)-((len(z)-1)*mean_height) >= mean_height:\n",
    "            print(mean_height,(i+1)-((len(z)-1)*mean_height))\n",
    "            z.append(y_sorted[i])\n",
    "        \n",
    "        #if len(z)>=m:\n",
    "        if len(z)>m:\n",
    "            break\n",
    "            \n",
    "def set_manual_digits():\n",
    "    global z\n",
    "    z = [0]\n",
    "    print(\"max(y)=\",max(y),\"z1=0\")\n",
    "    print(\"Введите границы разрядов.\\nВвод будет продолжаться до превышения вводимым числом max(y)\")\n",
    "    \n",
    "    while z[-1] < max(y):\n",
    "        z.append(float(input(\"Введите следующую границу разряда: \" )))\n",
    "    \n",
    "digit_mode_menu=TextMenu(description=\"Выберите способ определения разрядов гистограммы\", items = [\n",
    "TextMenuItem(description=\"Все разряды одинаковой длины. Их количество определяется формулой Стёрджеса\", todo=[set_sturges_digits,[]]),\n",
    "TextMenuItem(description=\"Разряды выбираются таким образом, чтобы в них состояло примерно одинаковое число значений\", todo=[set_digits_with_approximately_equal_height,[]]),\n",
    "TextMenuItem(description=\"Сначала по формуле формулой Стёрджеса, затем разделить наиболее крупные разряды и слить их фракции с менее крупными.\", todo=[set_digits_with_equal_height,[]]),\n",
    "TextMenuItem(description=\"Ввод вручную\", todo=[set_manual_digits,[]])\n",
    "])\n",
    "digit_mode_menu.display()"
   ]
  },
  {
   "cell_type": "code",
   "execution_count": 33,
   "metadata": {
    "scrolled": false
   },
   "outputs": [
    {
     "data": {
      "image/png": "[encoded data removed]",
      "text/plain": [
       "<Figure size 432x288 with 1 Axes>"
      ]
     },
     "metadata": {
      "needs_background": "light"
     },
     "output_type": "display_data"
    },
    {
     "name": "stdout",
     "output_type": "stream",
     "text": [
      "Мера похожести:  0.00848859183755056\n"
     ]
    }
   ],
   "source": [
    "get_frequency_density ()\n",
    "\n",
    "y_sorted= y[:]\n",
    "y_sorted.sort()\n",
    "\n",
    "#new_z = z[1:]\n",
    "#sns.barplot(x = new_z, y = frequency_density)\n",
    "\n",
    "#plt.figure()\n",
    "\n",
    "fig, ax = plt.subplots()\n",
    "plt.hist(y_sorted, density=\"true\", bins = z, range=(0,max(y)), label=('Гистограмма f(x)'))\n",
    "plot_range = np.arange(z[0],z[-1], 0.01)\n",
    "plot_y = [get_density_distribution(x) for x in plot_range]\n",
    "plt.plot(plot_range, plot_y, color='purple', linewidth=2, label=('f(x)'))\n",
    "\n",
    "fz = [(z[i+1]+z[i])/2 for i in range(len(z)-1)]\n",
    "plt.plot(fz, frequency_density, color=\"red\",marker = \"o\",linewidth=0, markersize=3, label=('Плотности частоты f*'))\n",
    "ax.legend()\n",
    "plt.show()\n",
    "\n",
    "#похожесть\n",
    "def get_measure_of_similarity(): \n",
    "    deviations = []\n",
    "    \n",
    "    for i in range(len(z)-1):\n",
    "        average_z = (z[i] + z[i+1])/2\n",
    "        deviation = (get_density_distribution(average_z) - frequency_density[i])**2\n",
    "        deviations.append(deviation)\n",
    "    return sum(deviations)\n",
    "\n",
    "print(\"Мера похожести: \", get_measure_of_similarity())"
   ]
  },
  {
   "cell_type": "markdown",
   "metadata": {},
   "source": [
    "### Часть 3"
   ]
  },
  {
   "cell_type": "code",
   "execution_count": 8,
   "metadata": {},
   "outputs": [],
   "source": [
    "from scipy.stats import chi2\n",
    "\n",
    "#degr of freedom\n",
    "r = len(z) - 1\n",
    "alpha = 0.05\n",
    "\n",
    "# R0\n",
    "def get_measure_of_discrepancy(degry_of_freedom,observed,expected):\n",
    "    elements = [] \n",
    "\n",
    "    for i in range(degry_of_freedom):\n",
    "        r_0_i = ((observed[i] - expected[i])**2)/expected[i]\n",
    "        elements.append(r_0_i)\n",
    "        \n",
    "    return sum(elements)\n",
    "\n",
    "def test_hypothesis (description, observed,expected):\n",
    "    print(\"Проверим гипотезу: \\n \",description)\n",
    "    \n",
    "    p = 1-alpha \n",
    "    quantil_chi2 = chi2.ppf(p, r)\n",
    "    \n",
    "    R0 = get_measure_of_discrepancy(r, observed,expected)\n",
    "    \n",
    "    print(\"r степеней свободы: \",r)    \n",
    "    print(\"R0, alpha, r = \",R0,\",\",alpha,\",\",r)\n",
    "    \n",
    "    if R0>=quantil_chi2:\n",
    "        print(\"Гипотеза H0 отклоняется \\n\",R0,\">=\",quantil_chi2)\n",
    "    else:\n",
    "        print(\"Гипотеза H0 не овтергается \\n\",R0,\"<\",quantil_chi2)"
   ]
  },
  {
   "cell_type": "code",
   "execution_count": 9,
   "metadata": {
    "scrolled": false
   },
   "outputs": [
    {
     "name": "stdout",
     "output_type": "stream",
     "text": [
      "Проверим гипотезу: \n",
      "  H0 – с.в. распределена показательно с параметром lambda = 2.0\n",
      "r степеней свободы:  15\n",
      "R0, alpha, r =  22.635984522161976 , 0.05 , 15\n",
      "Гипотеза H0 не овтергается \n",
      " 22.635984522161976 < 24.995790139728616\n"
     ]
    }
   ],
   "source": [
    "hypothesis_description = \"H0 – с.в. распределена показательно с параметром lambda = \"+str(lmbd)\n",
    "observed = [get_digit_length(y,z,i) for i in range(r)]\n",
    "expected = [n*(get_distribution_theory(z[i+1])-get_distribution_theory(z[i])) for i in range(r)]\n",
    "test_hypothesis (hypothesis_description, observed,expected)"
   ]
  },
  {
   "cell_type": "markdown",
   "metadata": {},
   "source": [
    "### Часть 4"
   ]
  },
  {
   "cell_type": "code",
   "execution_count": 10,
   "metadata": {
    "scrolled": false
   },
   "outputs": [
    {
     "data": {
      "text/html": [
       "<div>\n",
       "<style scoped>\n",
       "    .dataframe tbody tr th:only-of-type {\n",
       "        vertical-align: middle;\n",
       "    }\n",
       "\n",
       "    .dataframe tbody tr th {\n",
       "        vertical-align: top;\n",
       "    }\n",
       "\n",
       "    .dataframe thead th {\n",
       "        text-align: right;\n",
       "    }\n",
       "</style>\n",
       "<table border=\"1\" class=\"dataframe\">\n",
       "  <thead>\n",
       "    <tr style=\"text-align: right;\">\n",
       "      <th></th>\n",
       "      <th>0</th>\n",
       "      <th>1</th>\n",
       "      <th>2</th>\n",
       "      <th>3</th>\n",
       "      <th>4</th>\n",
       "      <th>5</th>\n",
       "      <th>6</th>\n",
       "    </tr>\n",
       "  </thead>\n",
       "  <tbody>\n",
       "    <tr>\n",
       "      <th>Количество заявок</th>\n",
       "      <td>0</td>\n",
       "      <td>1</td>\n",
       "      <td>2</td>\n",
       "      <td>3</td>\n",
       "      <td>4</td>\n",
       "      <td>5</td>\n",
       "      <td>6</td>\n",
       "    </tr>\n",
       "    <tr>\n",
       "      <th>Число интервалов, на которых наблюдалось это число заявок</th>\n",
       "      <td>3638</td>\n",
       "      <td>3722</td>\n",
       "      <td>1846</td>\n",
       "      <td>624</td>\n",
       "      <td>138</td>\n",
       "      <td>25</td>\n",
       "      <td>6</td>\n",
       "    </tr>\n",
       "  </tbody>\n",
       "</table>\n",
       "</div>"
      ],
      "text/plain": [
       "                                                       0     1     2    3  \\\n",
       "Количество заявок                                      0     1     2    3   \n",
       "Число интервалов, на которых наблюдалось это чи...  3638  3722  1846  624   \n",
       "\n",
       "                                                      4   5  6  \n",
       "Количество заявок                                     4   5  6  \n",
       "Число интервалов, на которых наблюдалось это чи...  138  25  6  "
      ]
     },
     "metadata": {},
     "output_type": "display_data"
    }
   ],
   "source": [
    "import collections\n",
    "\n",
    "tau = [sum(y[:i]) for i in range(len(y))[1:]]\n",
    "    \n",
    "t0 = sp.describe(y).mean\n",
    "\n",
    "tau_z = []\n",
    "tau_z = get_digits_with_equal_length (tau, tau_z, t0)\n",
    "\n",
    "m = int(tau[-1]/t0)\n",
    "\n",
    "count_of_request = []\n",
    "for i in range(len(tau_z)-1):\n",
    "    count_of_request.append(get_digit_length(tau,tau_z,i))\n",
    "\n",
    "request_count_per_holders_interval = collections.Counter(count_of_request)\n",
    "#print(request_count_per_holders_interval)\n",
    "\n",
    "table_data = dict(request_count_per_holders_interval)\n",
    "table_index_order = list(table_data)\n",
    "table_index_order.sort()\n",
    "table_series = pd.Series(table_data, index=table_index_order)\n",
    "#print(series)#,series.index,series.values)\n",
    "\n",
    "lablels = {'counter': 'Количество заявок', 'counter_freq':'Число интервалов, на которых наблюдалось это число заявок'}\n",
    "df_data = {lablels['counter']: table_series.index, lablels['counter_freq']: table_series.values}\n",
    "df = pd.DataFrame(data=df_data)\n",
    "display(df.T)"
   ]
  },
  {
   "cell_type": "code",
   "execution_count": 11,
   "metadata": {},
   "outputs": [
    {
     "name": "stdout",
     "output_type": "stream",
     "text": [
      "Проверим гипотезу: \n",
      "  Н0 – с.в. etta(t0) распределена по закону Пуассона с параметром lambda*t0\n",
      "r степеней свободы:  6\n",
      "R0, alpha, r =  3.7650523111722656 , 0.05 , 6\n",
      "Гипотеза H0 не овтергается \n",
      " 3.7650523111722656 < 12.591587243743977\n"
     ]
    }
   ],
   "source": [
    "from scipy.stats import poisson\n",
    "k=max(count_of_request)\n",
    "m=sum(table_series.values)\n",
    "r = k\n",
    "\n",
    "ni = list(table_series.values)\n",
    "\n",
    "mu=lmbd*t0\n",
    "mpi = [m*poisson.pmf(ki, mu) for ki in table_series.index]\n",
    "hypothesis_description = \"Н0 – с.в. etta(t0) распределена по закону Пуассона с параметром lambda*t0\"\n",
    "test_hypothesis (hypothesis_description, ni,mpi)"
   ]
  },
  {
   "cell_type": "code",
   "execution_count": null,
   "metadata": {},
   "outputs": [],
   "source": []
  },
  {
   "cell_type": "code",
   "execution_count": null,
   "metadata": {},
   "outputs": [],
   "source": []
  },
  {
   "cell_type": "code",
   "execution_count": null,
   "metadata": {},
   "outputs": [],
   "source": []
  },
  {
   "cell_type": "code",
   "execution_count": null,
   "metadata": {},
   "outputs": [],
   "source": []
  },
  {
   "cell_type": "code",
   "execution_count": null,
   "metadata": {},
   "outputs": [],
   "source": []
  },
  {
   "cell_type": "code",
   "execution_count": 44,
   "metadata": {},
   "outputs": [
    {
     "data": {
      "text/plain": [
       "[1, 2, 3, 4]"
      ]
     },
     "execution_count": 44,
     "metadata": {},
     "output_type": "execute_result"
    }
   ],
   "source": [
    "list(range(5)[1:])"
   ]
  },
  {
   "cell_type": "code",
   "execution_count": null,
   "metadata": {},
   "outputs": [],
   "source": []
  }
 ],
 "metadata": {
  "kernelspec": {
   "display_name": "Python 3",
   "language": "python",
   "name": "python3"
  },
  "language_info": {
   "codemirror_mode": {
    "name": "ipython",
    "version": 3
   },
   "file_extension": ".py",
   "mimetype": "text/x-python",
   "name": "python",
   "nbconvert_exporter": "python",
   "pygments_lexer": "ipython3",
   "version": "3.7.3"
  }
 },
 "nbformat": 4,
 "nbformat_minor": 2
}
