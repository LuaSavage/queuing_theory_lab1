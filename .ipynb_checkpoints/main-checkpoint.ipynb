{
 "cells": [
  {
   "cell_type": "markdown",
   "metadata": {},
   "source": [
    "### Выполнил: - -\n",
    "Для ввода данных выполните код в нижней ячейке"
   ]
  },
  {
   "cell_type": "code",
   "execution_count": 135,
   "metadata": {},
   "outputs": [
    {
     "name": "stdout",
     "output_type": "stream",
     "text": [
      "Введите номер операции: \n",
      "1. Ввести самостоятельно x0, n, lambda. \n",
      "2. Загрузить из файла.\n",
      "1\n",
      "Введите n: 10000\n",
      "Введите lmbd: 2\n",
      "Введите x0: 1\n",
      "Сохранить введенные данные?: \n",
      "1. Да \n",
      "2. Нет\n",
      "2\n",
      "Можно переходить к запуску кода из нижней ячейки\n"
     ]
    }
   ],
   "source": [
    "import math\n",
    "import random\n",
    "import scipy.stats as sp\n",
    "import pandas as pd\n",
    "from pathlib import Path\n",
    "import os\n",
    "\n",
    "x0, n, lmbd = None, None, None\n",
    "\n",
    "def load_from_csv():\n",
    "    file_path = Path(os.path.abspath(os.getcwd())+\"/data.csv\")\n",
    "    if file_path.is_file():\n",
    "        return pd.read_csv('data.csv')\n",
    "    return pd.DataFrame(data= {'x0': [], 'n': [], 'lambda': []})\n",
    "\n",
    "def save_data(df):\n",
    "    df.to_csv('data.csv', index=False)\n",
    "    return df\n",
    "\n",
    "def load_data():    \n",
    "    return load_from_csv()\n",
    "\n",
    "def add_data (df):\n",
    "    return df.append({'x0': x0, 'n': n, 'lambda': lmbd}, ignore_index=True)\n",
    "   \n",
    "input_data_frame = load_data()\n",
    "\n",
    "while True:\n",
    "    operation_num = int(input(\"Введите номер операции: \\n1. Ввести самостоятельно x0, n, lambda. \\n2. Загрузить из файла.\\n\"))\n",
    "\n",
    "    if operation_num == 1:\n",
    "        n = int(input(\"Введите n: \" ))\n",
    "        lmbd = float(input(\"Введите lmbd: \"))\n",
    "        x0 = float(input(\"Введите x0: \"))\n",
    "\n",
    "        if int(input(\"Сохранить введенные данные?: \\n1. Да \\n2. Нет\\n\")) == 1:\n",
    "            print(\"Новое состояние хранилища:\\n\")\n",
    "            input_data_frame = save_data(add_data(input_data_frame))\n",
    "            display(input_data_frame)\n",
    "        break\n",
    "\n",
    "    if operation_num == 2:\n",
    "        display(input_data_frame)\n",
    "        row_number = int(input(\"Выберите номер записи или введите -1 для возврата:\\n\"))\n",
    "        if row_number >= 0:\n",
    "            row = input_data_frame.iloc[int(row_number)]\n",
    "            x0, n, lmbd = float(row[\"x0\"]),int(row[\"n\"]),float(row[\"lambda\"])\n",
    "            print(\"Загружено из записи \" +str(row_number)+ \":\\n\")\n",
    "            break\n",
    "\n",
    "print(\"Можно переходить к запуску кода из нижней ячейки\")"
   ]
  },
  {
   "cell_type": "code",
   "execution_count": 136,
   "metadata": {},
   "outputs": [
    {
     "name": "stdout",
     "output_type": "stream",
     "text": [
      "Мат ожидание \n",
      " Теория: 0.5 ; практика: 0.47881621709543176 ; отклонение: 4.236756580913648 %\n",
      "Дисперсия \n",
      " Теория: 0.25 ; практика: 0.2094651533674734 ; отклонение: 16.21393865301064 %\n",
      "Функция распределения \n",
      " Теория: 0.8646647167633873 ; практика: 0.8741 ; отклонение: 0.00943528323661269\n"
     ]
    }
   ],
   "source": [
    "x, y = [], []\n",
    "\n",
    "def get_expected_value_theory():\n",
    "    return 1/lmbd\n",
    "\n",
    "def get_expected_value_practice():\n",
    "    #return (1/n)*sum(y)\n",
    "    return sp.describe(y).mean\n",
    "\n",
    "def get_err (theory, practice):\n",
    "    return (abs(theory-practice)/theory)*100\n",
    "\n",
    "def get_expected_value_err():\n",
    "    return get_err(get_expected_value_theory(), get_expected_value_practice())\n",
    "\n",
    "def get_dispersion_theory():\n",
    "    return 1/(lmbd**2) \n",
    "\n",
    "def get_dispersion_practice():\n",
    "    squared_deviation = []\n",
    "    for yi in y:\n",
    "        #squared_deviation.append( abs(yi-get_expected_value_practice()) )\n",
    "        squared_deviation.append( (yi-get_expected_value_practice())**2 )    \n",
    "    return sum(squared_deviation)*(1/n)\n",
    "\n",
    "def get_dispersion_err():\n",
    "    return get_err(get_dispersion_theory(), get_dispersion_practice())\n",
    "\n",
    "def get_distribution_theory(x):\n",
    "    return 1-math.exp((-1)*lmbd*x) if x>0 else 0\n",
    "\n",
    "def get_interval_count_less_x(x):\n",
    "    count = 0\n",
    "    for yi in y:\n",
    "        if (yi < x):\n",
    "            count += 1\n",
    "    return count\n",
    "\n",
    "def get_distribution_practice(x):\n",
    "    return get_interval_count_less_x(x)/n\n",
    "\n",
    "def get_distribution_err(x):\n",
    "    return abs(get_distribution_theory(x)-get_distribution_practice(x))\n",
    "\n",
    "\n",
    "def get_y (x):\n",
    "    return (-1)*(math.log(1-x)/lmbd)\n",
    "\n",
    "\n",
    "for i in range(0,n):\n",
    "    x.append(random.randrange(0, 100, 1)/100)\n",
    "    y.append( get_y(x[-1]) )\n",
    "    \n",
    "print(\"Мат ожидание \\n Теория:\",get_expected_value_theory(),\"; практика:\",get_expected_value_practice(),\"; отклонение:\",get_expected_value_err(),\"%\")\n",
    "print(\"Дисперсия \\n Теория:\",get_dispersion_theory(),\"; практика:\",get_dispersion_practice(),\"; отклонение:\",get_dispersion_err(),\"%\")\n",
    "print(\"Функция распределения \\n Теория:\",get_distribution_theory(x0),\"; практика:\",get_distribution_practice(x0),\"; отклонение:\",get_distribution_err(x0))\n"
   ]
  },
  {
   "cell_type": "markdown",
   "metadata": {},
   "source": [
    "### Гистограмма\n"
   ]
  },
  {
   "cell_type": "code",
   "execution_count": 138,
   "metadata": {},
   "outputs": [
    {
     "name": "stdout",
     "output_type": "stream",
     "text": [
      "Мера похожести:  0.013288264946539018\n"
     ]
    }
   ],
   "source": [
    "#распр плотности\n",
    "def get_density_distribution(x):\n",
    "    return lmbd*math.exp((-1)*lmbd*x)\n",
    "\n",
    "\n",
    "#похожесть\n",
    "def get_measure_of_similarity(): \n",
    "    deviations = []\n",
    "    \n",
    "    for i in range(len(z)-1):\n",
    "        average_z = (z[i] + z[i+1])/2\n",
    "        deviation = (get_density_distribution(average_z) - frequency_density[i])**2\n",
    "        deviations.append(deviation)\n",
    "    return sum(deviations)\n",
    "\n",
    "print(\"Мера похожести: \", get_measure_of_similarity())"
   ]
  },
  {
   "cell_type": "code",
   "execution_count": 139,
   "metadata": {
    "scrolled": false
   },
   "outputs": [
    {
     "data": {
      "image/png": "[encoded data removed]",
      "text/plain": [
       "<Figure size 432x288 with 1 Axes>"
      ]
     },
     "metadata": {
      "needs_background": "light"
     },
     "output_type": "display_data"
    }
   ],
   "source": [
    "import numpy as np\n",
    "import matplotlib.pyplot as plt\n",
    "import seaborn as sns\n",
    "\n",
    "z = []\n",
    "frequency_density = []\n",
    "\n",
    "def get_sturges_digit_count ():\n",
    "    m = 1.44*math.log(n) + 1\n",
    "    m = int(m)\n",
    "    return m\n",
    "\n",
    "def get_digits_with_equal_length ():\n",
    "    m = 1.44*math.log(n) + 1    \n",
    "    mean_length = max(y)/m\n",
    "\n",
    "    z.insert(1,0)\n",
    "    for i in range(1,int(m)):\n",
    "        z.insert(i, z[i-1]+mean_length)           \n",
    "\n",
    "    return z  \n",
    "\n",
    "\n",
    "def get_digit_length (i):\n",
    "\n",
    "    if (i < 0) or (i + 1  >= len(z)):\n",
    "        return False\n",
    "    \n",
    "    y_sorted = y[:]\n",
    "    y_sorted.sort()\n",
    "\n",
    "    interval = pd.Interval(left=z[i], right=z[i+1], closed = \"left\")\n",
    "        \n",
    "    digit_len = 0\n",
    "    \n",
    "    for y_i in (y_sorted):\n",
    "        #summ = sum(y_sorted[0:y_i])        \n",
    "        #if sum(y_sorted[0:y_i]) in interval:\n",
    "        #    digit_len+=1\n",
    "        if y_i in interval:\n",
    "            digit_len = digit_len + 1\n",
    "\n",
    "    \n",
    "    return digit_len\n",
    "\n",
    "\n",
    "def get_frequency_density ():\n",
    "    for i in range(len(z)-1):\n",
    "        delta_i = z[i+1]-z[i]\n",
    "        density = get_digit_length(i)/(n*delta_i)\n",
    "        frequency_density.insert(i,float(density))\n",
    "\n",
    "            \n",
    "get_digits_with_equal_length ()\n",
    "get_frequency_density ()\n",
    "\n",
    "\n",
    "y_sorted= y[:]\n",
    "y_sorted.sort()\n",
    "\n",
    "#new_z = z[1:]\n",
    "#sns.barplot(x = new_z, y = frequency_density)\n",
    "\n",
    "plt.figure()\n",
    "plt.hist(y_sorted,  density = \"true\", bins = z, )\n",
    "\n",
    "plot_range = np.arange(z[0],z[-1], 0.01)\n",
    "plot_y = []\n",
    "for x in plot_range:\n",
    "    plot_y.append(get_density_distribution(x))\n",
    "plt.plot(plot_range, plot_y, color='orange', linewidth=2)\n",
    "\n",
    "fz = []\n",
    "for i in range(len(z)-1):\n",
    "    fz.insert(i,(z[i+1]+z[i])/2)\n",
    "plt.plot(fz, frequency_density, color=\"red\",marker = \"o\",linewidth=0, markersize=3)\n",
    "\n",
    "plt.show()\n"
   ]
  },
  {
   "cell_type": "markdown",
   "metadata": {},
   "source": [
    "### Часть 3\n"
   ]
  },
  {
   "cell_type": "code",
   "execution_count": 140,
   "metadata": {},
   "outputs": [
    {
     "name": "stdout",
     "output_type": "stream",
     "text": [
      "Проверим гипотезу: \n",
      " H0 – с.в. распределена показательно с параметром lambda =  2.0\n",
      "степеней свободы:  14\n",
      "max y 2.3025850929940455\n",
      "i 0 lambda  2.0 n 10000 x0 1.0 Zi+1 0.16143888588466673 Z 0 F(Zi+1) 0.27593765018060545 F(Z) 0\n",
      "i 1 lambda  2.0 n 10000 x0 1.0 Zi+1 0.32287777176933347 Z 0.16143888588466673 F(Zi+1) 0.4757337135740167 F(Z) 0.27593765018060545\n",
      "i 2 lambda  2.0 n 10000 x0 1.0 Zi+1 0.4843166576540002 Z 0.32287777176933347 F(Zi+1) 0.6203985207193148 F(Z) 0.4757337135740167\n",
      "i 3 lambda  2.0 n 10000 x0 1.0 Zi+1 0.6457555435386669 Z 0.4843166576540002 F(Zi+1) 0.7251448609171088 F(Z) 0.6203985207193148\n",
      "i 4 lambda  2.0 n 10000 x0 1.0 Zi+1 0.8071944294233336 Z 0.6457555435386669 F(Zi+1) 0.8009877421357052 F(Z) 0.7251448609171088\n",
      "i 5 lambda  2.0 n 10000 x0 1.0 Zi+1 0.9686333153080003 Z 0.8071944294233336 F(Zi+1) 0.8559027169279154 F(Z) 0.8009877421357052\n",
      "i 6 lambda  2.0 n 10000 x0 1.0 Zi+1 1.1300722011926672 Z 0.9686333153080003 F(Zi+1) 0.895664582616236 F(Z) 0.8559027169279154\n",
      "i 7 lambda  2.0 n 10000 x0 1.0 Zi+1 1.2915110870773339 Z 1.1300722011926672 F(Zi+1) 0.9244546525197246 F(Z) 0.895664582616236\n",
      "i 8 lambda  2.0 n 10000 x0 1.0 Zi+1 1.4529499729620006 Z 1.2915110870773339 F(Zi+1) 0.9453004581855091 F(Z) 0.9244546525197246\n",
      "i 9 lambda  2.0 n 10000 x0 1.0 Zi+1 1.6143888588466673 Z 1.4529499729620006 F(Zi+1) 0.9603941212197554 F(Z) 0.9453004581855091\n",
      "i 10 lambda  2.0 n 10000 x0 1.0 Zi+1 1.775827744731334 Z 1.6143888588466673 F(Zi+1) 0.971322874343714 F(Z) 0.9603941212197554\n",
      "i 11 lambda  2.0 n 10000 x0 1.0 Zi+1 1.9372666306160007 Z 1.775827744731334 F(Zi+1) 0.9792359730112435 F(Z) 0.971322874343714\n",
      "i 12 lambda  2.0 n 10000 x0 1.0 Zi+1 2.0987055165006674 Z 1.9372666306160007 F(Zi+1) 0.9849655498268076 F(Z) 0.9792359730112435\n",
      "i 0 lambda  2.0 n 10000 x0 1.0 Zi+1 0.16143888588466673 Z 0 F(Zi+1) 0.27593765018060545 F(Z) 0\n",
      "i 1 lambda  2.0 n 10000 x0 1.0 Zi+1 0.32287777176933347 Z 0.16143888588466673 F(Zi+1) 0.4757337135740167 F(Z) 0.27593765018060545\n",
      "i 2 lambda  2.0 n 10000 x0 1.0 Zi+1 0.4843166576540002 Z 0.32287777176933347 F(Zi+1) 0.6203985207193148 F(Z) 0.4757337135740167\n",
      "i 3 lambda  2.0 n 10000 x0 1.0 Zi+1 0.6457555435386669 Z 0.4843166576540002 F(Zi+1) 0.7251448609171088 F(Z) 0.6203985207193148\n",
      "i 4 lambda  2.0 n 10000 x0 1.0 Zi+1 0.8071944294233336 Z 0.6457555435386669 F(Zi+1) 0.8009877421357052 F(Z) 0.7251448609171088\n",
      "i 5 lambda  2.0 n 10000 x0 1.0 Zi+1 0.9686333153080003 Z 0.8071944294233336 F(Zi+1) 0.8559027169279154 F(Z) 0.8009877421357052\n",
      "i 6 lambda  2.0 n 10000 x0 1.0 Zi+1 1.1300722011926672 Z 0.9686333153080003 F(Zi+1) 0.895664582616236 F(Z) 0.8559027169279154\n",
      "i 7 lambda  2.0 n 10000 x0 1.0 Zi+1 1.2915110870773339 Z 1.1300722011926672 F(Zi+1) 0.9244546525197246 F(Z) 0.895664582616236\n",
      "i 8 lambda  2.0 n 10000 x0 1.0 Zi+1 1.4529499729620006 Z 1.2915110870773339 F(Zi+1) 0.9453004581855091 F(Z) 0.9244546525197246\n",
      "i 9 lambda  2.0 n 10000 x0 1.0 Zi+1 1.6143888588466673 Z 1.4529499729620006 F(Zi+1) 0.9603941212197554 F(Z) 0.9453004581855091\n",
      "i 10 lambda  2.0 n 10000 x0 1.0 Zi+1 1.775827744731334 Z 1.6143888588466673 F(Zi+1) 0.971322874343714 F(Z) 0.9603941212197554\n",
      "i 11 lambda  2.0 n 10000 x0 1.0 Zi+1 1.9372666306160007 Z 1.775827744731334 F(Zi+1) 0.9792359730112435 F(Z) 0.971322874343714\n",
      "i 12 lambda  2.0 n 10000 x0 1.0 Zi+1 2.0987055165006674 Z 1.9372666306160007 F(Zi+1) 0.9849655498268076 F(Z) 0.9792359730112435\n",
      "R0, alpha, r =  152.89976054725946 , 0.05 , 13\n",
      "Гипотеза H0 отклоняется \n",
      " 152.89976054725946 >= 22.362032494826934\n"
     ]
    }
   ],
   "source": [
    "from scipy.stats import chi2\n",
    "\n",
    "def get_chi2_quantil(p,k):\n",
    "    return chi2.ppf(p, k)\n",
    "\n",
    "\n",
    "print(\"Проверим гипотезу: \\n H0 – с.в. распределена показательно с параметром lambda = \",lmbd)\n",
    "\n",
    "#degr of freedom\n",
    "r = len(z) - 1\n",
    "\n",
    "print(\"степеней свободы: \",len(z))\n",
    "\n",
    "# R0\n",
    "def get_measure_of_discrepancy():\n",
    "    elements = []\n",
    "    m = get_sturges_digit_count ()\n",
    "    \n",
    "    for i in range(len(z)-1):\n",
    "        p_i = get_distribution_theory(z[i+1])-get_distribution_theory(z[i])\n",
    "        l_i = get_digit_length(i)\n",
    "        \n",
    "        print(\"i\",i,\"lambda \",lmbd,\"n\",n,\"x0\",x0,\"Zi+1\",z[i+1],\"Z\",z[i],\"F(Zi+1)\",get_distribution_theory(z[i+1]),\"F(Z)\",get_distribution_theory(z[i]))\n",
    "        r_0_i = ((l_i - (n*p_i))**2)/(n*p_i)\n",
    "        elements.append(r_0_i)\n",
    "        \n",
    "    return sum(elements)\n",
    "        \n",
    "\n",
    "alpha = 0.05\n",
    "print(\"max y\",max(y))\n",
    "get_measure_of_discrepancy()\n",
    "\n",
    "p = 1-alpha \n",
    "quantil_chi2 = chi2.ppf(p, r)\n",
    "R0 = get_measure_of_discrepancy()\n",
    "\n",
    "\n",
    "\n",
    "print(\"R0, alpha, r = \",R0,\",\",alpha,\",\",r)\n",
    "if R0>=quantil_chi2:\n",
    "    print(\"Гипотеза H0 отклоняется \\n\",R0,\">=\",quantil_chi2)\n",
    "else:\n",
    "    print(\"Гипотеза H0 не овтергается \\n\",R0,\"<\",quantil_chi2)"
   ]
  },
  {
   "cell_type": "code",
   "execution_count": 42,
   "metadata": {},
   "outputs": [
    {
     "name": "stderr",
     "output_type": "stream",
     "text": [
      "warning: LF will be replaced by CRLF in .ipynb_checkpoints/main-checkpoint.ipynb.\n",
      "The file will have its original line endings in your working directory\n",
      "warning: LF will be replaced by CRLF in main.ipynb.\n",
      "The file will have its original line endings in your working directory\n"
     ]
    },
    {
     "name": "stdout",
     "output_type": "stream",
     "text": [
      "[main d3e3275] !\n",
      " 2 files changed, 218 insertions(+), 217 deletions(-)\n"
     ]
    },
    {
     "name": "stderr",
     "output_type": "stream",
     "text": [
      "To https://github.com/russianSlave/queuing_theory_lab1.git\n",
      "   cace7b8..d3e3275  main -> main\n"
     ]
    }
   ],
   "source": [
    "! git add *\n",
    "! git commit -m !\n",
    "! git push"
   ]
  },
  {
   "cell_type": "code",
   "execution_count": 1,
   "metadata": {},
   "outputs": [
    {
     "name": "stdout",
     "output_type": "stream",
     "text": [
      "Requirement already up-to-date: seaborn in c:\\programdata\\anaconda3\\lib\\site-packages (0.11.2)\n",
      "Requirement already satisfied, skipping upgrade: matplotlib>=2.2 in c:\\programdata\\anaconda3\\lib\\site-packages (from seaborn) (3.0.3)\n",
      "Requirement already satisfied, skipping upgrade: pandas>=0.23 in c:\\programdata\\anaconda3\\lib\\site-packages (from seaborn) (0.24.2)\n",
      "Requirement already satisfied, skipping upgrade: scipy>=1.0 in c:\\programdata\\anaconda3\\lib\\site-packages (from seaborn) (1.2.1)\n",
      "Requirement already satisfied, skipping upgrade: numpy>=1.15 in c:\\programdata\\anaconda3\\lib\\site-packages (from seaborn) (1.16.2)\n",
      "Requirement already satisfied, skipping upgrade: cycler>=0.10 in c:\\programdata\\anaconda3\\lib\\site-packages (from matplotlib>=2.2->seaborn) (0.10.0)\n",
      "Requirement already satisfied, skipping upgrade: kiwisolver>=1.0.1 in c:\\programdata\\anaconda3\\lib\\site-packages (from matplotlib>=2.2->seaborn) (1.0.1)\n",
      "Requirement already satisfied, skipping upgrade: pyparsing!=2.0.4,!=2.1.2,!=2.1.6,>=2.0.1 in c:\\programdata\\anaconda3\\lib\\site-packages (from matplotlib>=2.2->seaborn) (2.3.1)\n",
      "Requirement already satisfied, skipping upgrade: python-dateutil>=2.1 in c:\\programdata\\anaconda3\\lib\\site-packages (from matplotlib>=2.2->seaborn) (2.8.0)\n",
      "Requirement already satisfied, skipping upgrade: pytz>=2011k in c:\\programdata\\anaconda3\\lib\\site-packages (from pandas>=0.23->seaborn) (2018.9)\n",
      "Requirement already satisfied, skipping upgrade: six in c:\\programdata\\anaconda3\\lib\\site-packages (from cycler>=0.10->matplotlib>=2.2->seaborn) (1.12.0)\n",
      "Requirement already satisfied, skipping upgrade: setuptools in c:\\programdata\\anaconda3\\lib\\site-packages (from kiwisolver>=1.0.1->matplotlib>=2.2->seaborn) (40.8.0)\n"
     ]
    }
   ],
   "source": [
    "!pip install -U seaborn"
   ]
  },
  {
   "cell_type": "code",
   "execution_count": null,
   "metadata": {},
   "outputs": [],
   "source": [
    "\n"
   ]
  },
  {
   "cell_type": "code",
   "execution_count": null,
   "metadata": {},
   "outputs": [],
   "source": []
  }
 ],
 "metadata": {
  "kernelspec": {
   "display_name": "Python 3",
   "language": "python",
   "name": "python3"
  },
  "language_info": {
   "codemirror_mode": {
    "name": "ipython",
    "version": 3
   },
   "file_extension": ".py",
   "mimetype": "text/x-python",
   "name": "python",
   "nbconvert_exporter": "python",
   "pygments_lexer": "ipython3",
   "version": "3.7.3"
  }
 },
 "nbformat": 4,
 "nbformat_minor": 2
}
